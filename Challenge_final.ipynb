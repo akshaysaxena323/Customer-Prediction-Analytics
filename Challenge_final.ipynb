{
 "cells": [
  {
   "cell_type": "markdown",
   "metadata": {},
   "source": [
    "#### Importing Library"
   ]
  },
  {
   "cell_type": "code",
   "execution_count": 1,
   "metadata": {},
   "outputs": [
    {
     "name": "stderr",
     "output_type": "stream",
     "text": [
      "/usr/local/lib/python2.7/dist-packages/pandas/_libs/__init__.py:4: RuntimeWarning: numpy.dtype size changed, may indicate binary incompatibility. Expected 96, got 88\n",
      "  from .tslib import iNaT, NaT, Timestamp, Timedelta, OutOfBoundsDatetime\n",
      "/usr/local/lib/python2.7/dist-packages/pandas/__init__.py:26: RuntimeWarning: numpy.dtype size changed, may indicate binary incompatibility. Expected 96, got 88\n",
      "  from pandas._libs import (hashtable as _hashtable,\n",
      "/usr/local/lib/python2.7/dist-packages/pandas/core/dtypes/common.py:6: RuntimeWarning: numpy.dtype size changed, may indicate binary incompatibility. Expected 96, got 88\n",
      "  from pandas._libs import algos, lib\n",
      "/usr/local/lib/python2.7/dist-packages/pandas/core/util/hashing.py:7: RuntimeWarning: numpy.dtype size changed, may indicate binary incompatibility. Expected 96, got 88\n",
      "  from pandas._libs import hashing, tslib\n",
      "/usr/local/lib/python2.7/dist-packages/pandas/core/indexes/base.py:7: RuntimeWarning: numpy.dtype size changed, may indicate binary incompatibility. Expected 96, got 88\n",
      "  from pandas._libs import (lib, index as libindex, tslib as libts,\n",
      "/usr/local/lib/python2.7/dist-packages/pandas/tseries/offsets.py:21: RuntimeWarning: numpy.dtype size changed, may indicate binary incompatibility. Expected 96, got 88\n",
      "  import pandas._libs.tslibs.offsets as liboffsets\n",
      "/usr/local/lib/python2.7/dist-packages/pandas/core/ops.py:16: RuntimeWarning: numpy.dtype size changed, may indicate binary incompatibility. Expected 96, got 88\n",
      "  from pandas._libs import algos as libalgos, ops as libops\n",
      "/usr/local/lib/python2.7/dist-packages/pandas/core/indexes/interval.py:32: RuntimeWarning: numpy.dtype size changed, may indicate binary incompatibility. Expected 96, got 88\n",
      "  from pandas._libs.interval import (\n",
      "/usr/local/lib/python2.7/dist-packages/pandas/core/internals.py:14: RuntimeWarning: numpy.dtype size changed, may indicate binary incompatibility. Expected 96, got 88\n",
      "  from pandas._libs import internals as libinternals\n",
      "/usr/local/lib/python2.7/dist-packages/pandas/core/sparse/array.py:33: RuntimeWarning: numpy.dtype size changed, may indicate binary incompatibility. Expected 96, got 88\n",
      "  import pandas._libs.sparse as splib\n",
      "/usr/local/lib/python2.7/dist-packages/pandas/core/window.py:36: RuntimeWarning: numpy.dtype size changed, may indicate binary incompatibility. Expected 96, got 88\n",
      "  import pandas._libs.window as _window\n",
      "/usr/local/lib/python2.7/dist-packages/pandas/core/groupby/groupby.py:68: RuntimeWarning: numpy.dtype size changed, may indicate binary incompatibility. Expected 96, got 88\n",
      "  from pandas._libs import (lib, reduction,\n",
      "/usr/local/lib/python2.7/dist-packages/pandas/core/reshape/reshape.py:30: RuntimeWarning: numpy.dtype size changed, may indicate binary incompatibility. Expected 96, got 88\n",
      "  from pandas._libs import algos as _algos, reshape as _reshape\n",
      "/usr/local/lib/python2.7/dist-packages/pandas/io/parsers.py:45: RuntimeWarning: numpy.dtype size changed, may indicate binary incompatibility. Expected 96, got 88\n",
      "  import pandas._libs.parsers as parsers\n",
      "/usr/local/lib/python2.7/dist-packages/pandas/io/pytables.py:50: RuntimeWarning: numpy.dtype size changed, may indicate binary incompatibility. Expected 96, got 88\n",
      "  from pandas._libs import algos, lib, writers as libwriters\n"
     ]
    }
   ],
   "source": [
    "import pandas as pd\n",
    "import numpy as np"
   ]
  },
  {
   "cell_type": "markdown",
   "metadata": {},
   "source": [
    "#### Reading data set"
   ]
  },
  {
   "cell_type": "code",
   "execution_count": 2,
   "metadata": {},
   "outputs": [],
   "source": [
    "data = pd.read_csv('data_science_challenge_samp_18.csv',parse_dates=[1],keep_date_col = True)"
   ]
  },
  {
   "cell_type": "code",
   "execution_count": 3,
   "metadata": {},
   "outputs": [
    {
     "data": {
      "text/plain": [
       "Index([u'cust_id', u'order_date', u'lane_number', u'total_spend',\n",
       "       u'units_purchased'],\n",
       "      dtype='object')"
      ]
     },
     "execution_count": 3,
     "metadata": {},
     "output_type": "execute_result"
    }
   ],
   "source": [
    "data.columns"
   ]
  },
  {
   "cell_type": "code",
   "execution_count": 4,
   "metadata": {},
   "outputs": [
    {
     "name": "stdout",
     "output_type": "stream",
     "text": [
      "(323437, 5)\n",
      "(323021, 5)\n"
     ]
    }
   ],
   "source": [
    "print(data.shape)\n",
    "data = data.drop_duplicates()\n",
    "print(data.shape)"
   ]
  },
  {
   "cell_type": "code",
   "execution_count": 5,
   "metadata": {},
   "outputs": [
    {
     "data": {
      "text/plain": [
       "cust_id                     int64\n",
       "order_date         datetime64[ns]\n",
       "lane_number                 int64\n",
       "total_spend                object\n",
       "units_purchased             int64\n",
       "dtype: object"
      ]
     },
     "execution_count": 5,
     "metadata": {},
     "output_type": "execute_result"
    }
   ],
   "source": [
    "data.dtypes"
   ]
  },
  {
   "cell_type": "markdown",
   "metadata": {},
   "source": [
    "#### Customers total number of visits to the store"
   ]
  },
  {
   "cell_type": "code",
   "execution_count": 6,
   "metadata": {},
   "outputs": [],
   "source": [
    "cust_count = data.cust_id.value_counts().reset_index()\n",
    "cust_count.columns = ['cust_id','cust_count']"
   ]
  },
  {
   "cell_type": "code",
   "execution_count": 7,
   "metadata": {},
   "outputs": [
    {
     "data": {
      "text/html": [
       "<div>\n",
       "<style scoped>\n",
       "    .dataframe tbody tr th:only-of-type {\n",
       "        vertical-align: middle;\n",
       "    }\n",
       "\n",
       "    .dataframe tbody tr th {\n",
       "        vertical-align: top;\n",
       "    }\n",
       "\n",
       "    .dataframe thead th {\n",
       "        text-align: right;\n",
       "    }\n",
       "</style>\n",
       "<table border=\"1\" class=\"dataframe\">\n",
       "  <thead>\n",
       "    <tr style=\"text-align: right;\">\n",
       "      <th></th>\n",
       "      <th>cust_id</th>\n",
       "      <th>cust_count</th>\n",
       "    </tr>\n",
       "  </thead>\n",
       "  <tbody>\n",
       "    <tr>\n",
       "      <th>0</th>\n",
       "      <td>5183161534</td>\n",
       "      <td>543</td>\n",
       "    </tr>\n",
       "    <tr>\n",
       "      <th>1</th>\n",
       "      <td>4302370736</td>\n",
       "      <td>535</td>\n",
       "    </tr>\n",
       "  </tbody>\n",
       "</table>\n",
       "</div>"
      ],
      "text/plain": [
       "      cust_id  cust_count\n",
       "0  5183161534         543\n",
       "1  4302370736         535"
      ]
     },
     "execution_count": 7,
     "metadata": {},
     "output_type": "execute_result"
    }
   ],
   "source": [
    "cust_count.head(2)"
   ]
  },
  {
   "cell_type": "code",
   "execution_count": 8,
   "metadata": {},
   "outputs": [
    {
     "data": {
      "text/plain": [
       "(Timestamp('2015-03-20 00:00:00'), Timestamp('2016-03-27 00:00:00'))"
      ]
     },
     "execution_count": 8,
     "metadata": {},
     "output_type": "execute_result"
    }
   ],
   "source": [
    "data.order_date.min(),data.order_date.max()"
   ]
  },
  {
   "cell_type": "code",
   "execution_count": 9,
   "metadata": {},
   "outputs": [
    {
     "data": {
      "text/html": [
       "<div>\n",
       "<style scoped>\n",
       "    .dataframe tbody tr th:only-of-type {\n",
       "        vertical-align: middle;\n",
       "    }\n",
       "\n",
       "    .dataframe tbody tr th {\n",
       "        vertical-align: top;\n",
       "    }\n",
       "\n",
       "    .dataframe thead th {\n",
       "        text-align: right;\n",
       "    }\n",
       "</style>\n",
       "<table border=\"1\" class=\"dataframe\">\n",
       "  <thead>\n",
       "    <tr style=\"text-align: right;\">\n",
       "      <th></th>\n",
       "      <th>cust_id</th>\n",
       "      <th>order_date</th>\n",
       "      <th>lane_number</th>\n",
       "      <th>total_spend</th>\n",
       "      <th>units_purchased</th>\n",
       "    </tr>\n",
       "  </thead>\n",
       "  <tbody>\n",
       "    <tr>\n",
       "      <th>0</th>\n",
       "      <td>4239597436</td>\n",
       "      <td>2015-03-20</td>\n",
       "      <td>3</td>\n",
       "      <td>19.84</td>\n",
       "      <td>5</td>\n",
       "    </tr>\n",
       "    <tr>\n",
       "      <th>1</th>\n",
       "      <td>4913827536</td>\n",
       "      <td>2015-03-20</td>\n",
       "      <td>3</td>\n",
       "      <td>11.1</td>\n",
       "      <td>5</td>\n",
       "    </tr>\n",
       "    <tr>\n",
       "      <th>2</th>\n",
       "      <td>4913827536</td>\n",
       "      <td>2015-03-20</td>\n",
       "      <td>1</td>\n",
       "      <td>10</td>\n",
       "      <td>1</td>\n",
       "    </tr>\n",
       "    <tr>\n",
       "      <th>3</th>\n",
       "      <td>4271866537</td>\n",
       "      <td>2015-03-20</td>\n",
       "      <td>5</td>\n",
       "      <td>13.68</td>\n",
       "      <td>2</td>\n",
       "    </tr>\n",
       "    <tr>\n",
       "      <th>4</th>\n",
       "      <td>5316845735</td>\n",
       "      <td>2015-03-20</td>\n",
       "      <td>4</td>\n",
       "      <td>5.29</td>\n",
       "      <td>1</td>\n",
       "    </tr>\n",
       "  </tbody>\n",
       "</table>\n",
       "</div>"
      ],
      "text/plain": [
       "      cust_id order_date  lane_number total_spend  units_purchased\n",
       "0  4239597436 2015-03-20            3       19.84                5\n",
       "1  4913827536 2015-03-20            3        11.1                5\n",
       "2  4913827536 2015-03-20            1          10                1\n",
       "3  4271866537 2015-03-20            5       13.68                2\n",
       "4  5316845735 2015-03-20            4        5.29                1"
      ]
     },
     "execution_count": 9,
     "metadata": {},
     "output_type": "execute_result"
    }
   ],
   "source": [
    "data.head()"
   ]
  },
  {
   "cell_type": "markdown",
   "metadata": {},
   "source": [
    "#### Generating date range between 03-20-2015 to (2016-03-27 + 8 days = 2016-04-03)"
   ]
  },
  {
   "cell_type": "code",
   "execution_count": 10,
   "metadata": {},
   "outputs": [],
   "source": [
    "from datetime import date, timedelta\n",
    "d2 = date(2016, 3, 27)  # start date\n",
    "d1 = date(2015, 3, 20)  # end date\n",
    "delta = d2 - d1         # timedelta\n",
    "all_dates = []\n",
    "for i in range(delta.days + 8):\n",
    "    all_dates.append(d1 + timedelta(i))"
   ]
  },
  {
   "cell_type": "code",
   "execution_count": 11,
   "metadata": {},
   "outputs": [],
   "source": [
    "all_cust_id = data.cust_id.unique()"
   ]
  },
  {
   "cell_type": "markdown",
   "metadata": {},
   "source": [
    "#### Generating all dates entry for each customer"
   ]
  },
  {
   "cell_type": "code",
   "execution_count": 12,
   "metadata": {},
   "outputs": [],
   "source": [
    "data_cus_id = []\n",
    "data_dates = []\n",
    "for c_id in all_cust_id:\n",
    "    for d in all_dates:\n",
    "        data_cus_id.append(c_id)\n",
    "        data_dates.append(d)"
   ]
  },
  {
   "cell_type": "markdown",
   "metadata": {},
   "source": [
    "#### checking customer id with each date entry through an year and length should be same."
   ]
  },
  {
   "cell_type": "code",
   "execution_count": 13,
   "metadata": {},
   "outputs": [
    {
     "data": {
      "text/plain": [
       "(4758309, 4758309)"
      ]
     },
     "execution_count": 13,
     "metadata": {},
     "output_type": "execute_result"
    }
   ],
   "source": [
    "len(data_cus_id), len(data_dates)"
   ]
  },
  {
   "cell_type": "markdown",
   "metadata": {},
   "source": [
    "#### Creating dataframe for new training set"
   ]
  },
  {
   "cell_type": "code",
   "execution_count": 14,
   "metadata": {},
   "outputs": [],
   "source": [
    "full_data = pd.DataFrame({'cust_id':data_cus_id,'order_date':data_dates})"
   ]
  },
  {
   "cell_type": "markdown",
   "metadata": {},
   "source": [
    "##### Sanity Check"
   ]
  },
  {
   "cell_type": "code",
   "execution_count": 15,
   "metadata": {},
   "outputs": [
    {
     "data": {
      "text/plain": [
       "array([381])"
      ]
     },
     "execution_count": 15,
     "metadata": {},
     "output_type": "execute_result"
    }
   ],
   "source": [
    "full_data.cust_id.value_counts().unique()"
   ]
  },
  {
   "cell_type": "code",
   "execution_count": 16,
   "metadata": {},
   "outputs": [
    {
     "data": {
      "text/plain": [
       "cust_id        int64\n",
       "order_date    object\n",
       "dtype: object"
      ]
     },
     "execution_count": 16,
     "metadata": {},
     "output_type": "execute_result"
    }
   ],
   "source": [
    "full_data.dtypes"
   ]
  },
  {
   "cell_type": "markdown",
   "metadata": {},
   "source": [
    "#### Converting full_data dataframe to datetime format for order_date column"
   ]
  },
  {
   "cell_type": "code",
   "execution_count": 17,
   "metadata": {},
   "outputs": [],
   "source": [
    "full_data['order_date'] = pd.to_datetime(full_data.order_date,format= '%Y-%m-%d')"
   ]
  },
  {
   "cell_type": "code",
   "execution_count": 18,
   "metadata": {},
   "outputs": [
    {
     "data": {
      "text/plain": [
       "(Timestamp('2015-03-20 00:00:00'), Timestamp('2016-04-03 00:00:00'))"
      ]
     },
     "execution_count": 18,
     "metadata": {},
     "output_type": "execute_result"
    }
   ],
   "source": [
    "full_data.order_date.min(),full_data.order_date.max()"
   ]
  },
  {
   "cell_type": "markdown",
   "metadata": {},
   "source": [
    "#### Generating training and test data set"
   ]
  },
  {
   "cell_type": "code",
   "execution_count": 19,
   "metadata": {},
   "outputs": [],
   "source": [
    "train = full_data.loc[full_data.order_date <= pd.to_datetime('2016-03-27',format ='%Y-%m-%d' )]\n",
    "test = full_data.loc[full_data.order_date > pd.to_datetime('2016-03-27',format ='%Y-%m-%d' )]"
   ]
  },
  {
   "cell_type": "code",
   "execution_count": 20,
   "metadata": {},
   "outputs": [
    {
     "data": {
      "text/plain": [
       "(array([374]), array([7]))"
      ]
     },
     "execution_count": 20,
     "metadata": {},
     "output_type": "execute_result"
    }
   ],
   "source": [
    "train.cust_id.value_counts().unique(),test.cust_id.value_counts().unique()"
   ]
  },
  {
   "cell_type": "code",
   "execution_count": 21,
   "metadata": {},
   "outputs": [
    {
     "data": {
      "text/plain": [
       "((87423, 2), (4670886, 2), (4758309, 2))"
      ]
     },
     "execution_count": 21,
     "metadata": {},
     "output_type": "execute_result"
    }
   ],
   "source": [
    "test.shape,train.shape,full_data.shape"
   ]
  },
  {
   "cell_type": "code",
   "execution_count": 22,
   "metadata": {},
   "outputs": [
    {
     "data": {
      "text/plain": [
       "56"
      ]
     },
     "execution_count": 22,
     "metadata": {},
     "output_type": "execute_result"
    }
   ],
   "source": [
    "import gc\n",
    "del full_data\n",
    "gc.collect()"
   ]
  },
  {
   "cell_type": "markdown",
   "metadata": {},
   "source": [
    "#### took only first order_date of a customer"
   ]
  },
  {
   "cell_type": "code",
   "execution_count": 23,
   "metadata": {},
   "outputs": [
    {
     "name": "stdout",
     "output_type": "stream",
     "text": [
      "(323021, 5)\n",
      "(283838, 5)\n"
     ]
    }
   ],
   "source": [
    "print(data.shape)\n",
    "data = data.groupby(['cust_id','order_date']).head(1)\n",
    "print (data.shape)"
   ]
  },
  {
   "cell_type": "code",
   "execution_count": 24,
   "metadata": {},
   "outputs": [],
   "source": [
    "train = train.merge(data, on=['cust_id','order_date'],how='left')"
   ]
  },
  {
   "cell_type": "code",
   "execution_count": 25,
   "metadata": {},
   "outputs": [],
   "source": [
    "train['target']=0\n",
    "train.loc[pd.notnull(train.units_purchased ),'target']=1\n",
    "train = train.drop(['units_purchased','lane_number','total_spend'],axis=1)"
   ]
  },
  {
   "cell_type": "code",
   "execution_count": 26,
   "metadata": {},
   "outputs": [
    {
     "data": {
      "text/plain": [
       "True"
      ]
     },
     "execution_count": 26,
     "metadata": {},
     "output_type": "execute_result"
    }
   ],
   "source": [
    "# number of one should be same as the number of data observations and it can be verified as below\n",
    "train.target.sum() == data.shape[0]"
   ]
  },
  {
   "cell_type": "code",
   "execution_count": 27,
   "metadata": {},
   "outputs": [
    {
     "data": {
      "text/plain": [
       "array([374])"
      ]
     },
     "execution_count": 27,
     "metadata": {},
     "output_type": "execute_result"
    }
   ],
   "source": [
    "train.cust_id.value_counts().unique()"
   ]
  },
  {
   "cell_type": "code",
   "execution_count": 28,
   "metadata": {},
   "outputs": [],
   "source": [
    "# create some features based on date\n",
    "train['month'] = train.order_date.dt.month\n",
    "train['weekofyear'] = train.order_date.dt.weekofyear\n",
    "train['is_month_start'] = train.order_date.dt.is_month_start\n",
    "train['is_month_end'] = train.order_date.dt.is_month_end\n",
    "train['day'] = train.order_date.dt.day\n",
    "train['dayofweek'] = train.order_date.dt.dayofweek\n",
    "\n",
    "test['month'] = test.order_date.dt.month\n",
    "test['weekofyear'] = test.order_date.dt.weekofyear\n",
    "test['is_month_start'] = test.order_date.dt.is_month_start\n",
    "test['is_month_end'] = test.order_date.dt.is_month_end\n",
    "test['day'] = test.order_date.dt.day\n",
    "test['dayofweek'] = test.order_date.dt.dayofweek"
   ]
  },
  {
   "cell_type": "markdown",
   "metadata": {},
   "source": [
    "customers visited the store more than once in a day but I took only the first visit of the day(we could use the aggregrated values)"
   ]
  },
  {
   "cell_type": "code",
   "execution_count": 29,
   "metadata": {},
   "outputs": [
    {
     "data": {
      "text/plain": [
       "Index([u'cust_id', u'order_date', u'target', u'month', u'weekofyear',\n",
       "       u'is_month_start', u'is_month_end', u'day', u'dayofweek'],\n",
       "      dtype='object')"
      ]
     },
     "execution_count": 29,
     "metadata": {},
     "output_type": "execute_result"
    }
   ],
   "source": [
    "train.columns"
   ]
  },
  {
   "cell_type": "code",
   "execution_count": 30,
   "metadata": {},
   "outputs": [],
   "source": [
    "data['month'] = data.order_date.dt.month\n",
    "data['weekofyear'] = data.order_date.dt.weekofyear\n",
    "data['is_month_start'] = data.order_date.dt.is_month_start\n",
    "data['is_month_end'] = data.order_date.dt.is_month_end\n",
    "data['day'] = data.order_date.dt.day\n",
    "data['dayofweek'] = data.order_date.dt.day\n"
   ]
  },
  {
   "cell_type": "code",
   "execution_count": 31,
   "metadata": {},
   "outputs": [],
   "source": [
    "data['total_spend'] = data.total_spend.str.replace(',', '')\n",
    "data['total_spend']=data.total_spend.astype(float)"
   ]
  },
  {
   "cell_type": "code",
   "execution_count": 32,
   "metadata": {},
   "outputs": [],
   "source": [
    "# in next few llines stats based features are created"
   ]
  },
  {
   "cell_type": "code",
   "execution_count": 33,
   "metadata": {},
   "outputs": [],
   "source": [
    "k1 = data[['cust_id','total_spend']].groupby('cust_id').agg('mean').reset_index()\n",
    "k1.columns = ['cust_id','cust_id_total_send_mean']\n",
    "train = train.merge(k1,on='cust_id',how='left')\n",
    "test = test.merge(k1,on='cust_id',how='left')"
   ]
  },
  {
   "cell_type": "code",
   "execution_count": 34,
   "metadata": {},
   "outputs": [
    {
     "data": {
      "text/html": [
       "<div>\n",
       "<style scoped>\n",
       "    .dataframe tbody tr th:only-of-type {\n",
       "        vertical-align: middle;\n",
       "    }\n",
       "\n",
       "    .dataframe tbody tr th {\n",
       "        vertical-align: top;\n",
       "    }\n",
       "\n",
       "    .dataframe thead th {\n",
       "        text-align: right;\n",
       "    }\n",
       "</style>\n",
       "<table border=\"1\" class=\"dataframe\">\n",
       "  <thead>\n",
       "    <tr style=\"text-align: right;\">\n",
       "      <th></th>\n",
       "      <th>cust_id</th>\n",
       "      <th>cust_id_total_send_mean</th>\n",
       "    </tr>\n",
       "  </thead>\n",
       "  <tbody>\n",
       "    <tr>\n",
       "      <th>0</th>\n",
       "      <td>4005940437</td>\n",
       "      <td>10.096692</td>\n",
       "    </tr>\n",
       "    <tr>\n",
       "      <th>1</th>\n",
       "      <td>4005940737</td>\n",
       "      <td>9.021429</td>\n",
       "    </tr>\n",
       "    <tr>\n",
       "      <th>2</th>\n",
       "      <td>4005941333</td>\n",
       "      <td>29.450000</td>\n",
       "    </tr>\n",
       "    <tr>\n",
       "      <th>3</th>\n",
       "      <td>4005941434</td>\n",
       "      <td>7.773415</td>\n",
       "    </tr>\n",
       "    <tr>\n",
       "      <th>4</th>\n",
       "      <td>4005941533</td>\n",
       "      <td>28.092174</td>\n",
       "    </tr>\n",
       "  </tbody>\n",
       "</table>\n",
       "</div>"
      ],
      "text/plain": [
       "      cust_id  cust_id_total_send_mean\n",
       "0  4005940437                10.096692\n",
       "1  4005940737                 9.021429\n",
       "2  4005941333                29.450000\n",
       "3  4005941434                 7.773415\n",
       "4  4005941533                28.092174"
      ]
     },
     "execution_count": 34,
     "metadata": {},
     "output_type": "execute_result"
    }
   ],
   "source": [
    "k1.head()"
   ]
  },
  {
   "cell_type": "code",
   "execution_count": 35,
   "metadata": {},
   "outputs": [
    {
     "data": {
      "text/plain": [
       "<matplotlib.figure.Figure at 0x7f9876557d90>"
      ]
     },
     "metadata": {},
     "output_type": "display_data"
    }
   ],
   "source": [
    "import matplotlib.pyplot as plt\n",
    "k1.plot(x='cust_id', y='cust_id_total_send_mean', kind='bar') \n",
    "plt.show()"
   ]
  },
  {
   "cell_type": "code",
   "execution_count": 36,
   "metadata": {},
   "outputs": [],
   "source": [
    "#k1 = data[['cust_id','total_spend']].groupby('cust_id').agg('mean').reset_index()\n",
    "#k1.columns = ['cust_id','cust_id_total_send_mean']\n",
    "#train = train.merge(k1,on='cust_id',how='left')\n",
    "#test = test.merge(k1,on='cust_id',how='left')\n",
    "\n",
    "#k2 = data[['cust_id','total_spend']].groupby('cust_id').agg('median').reset_index()\n",
    "#k2.columns = ['cust_id','cust_id_total_send_median']\n",
    "#train = train.merge(k2,on='cust_id',how='left')\n",
    "#test = test.merge(k2,on='cust_id',how='left')\n",
    "\n",
    "#k3 = data[['cust_id','total_spend']].groupby('cust_id').agg('std').reset_index()\n",
    "#k3.columns = ['cust_id','cust_id_total_send_std']\n",
    "#train = train.merge(k3,on='cust_id',how='left')\n",
    "#test = test.merge(k3,on='cust_id',how='left')"
   ]
  },
  {
   "cell_type": "code",
   "execution_count": 37,
   "metadata": {},
   "outputs": [],
   "source": [
    "#k1 = data[['cust_id','units_purchased']].groupby('cust_id').agg('mean').reset_index()\n",
    "#k1.columns = ['cust_id','cust_id_units_purchased_mean']\n",
    "#train = train.merge(k1,on='cust_id',how='left')\n",
    "#test = test.merge(k1,on='cust_id',how='left')\n",
    "\n",
    "#k2 = data[['cust_id','units_purchased']].groupby('cust_id').agg('median').reset_index()\n",
    "#k2.columns = ['cust_id','cust_id_units_purchased_median']\n",
    "#train = train.merge(k2,on='cust_id',how='left')\n",
    "#test = test.merge(k2,on='cust_id',how='left')\n",
    "\n",
    "#k3 = data[['cust_id','units_purchased']].groupby('cust_id').agg('std').reset_index()\n",
    "#k3.columns = ['cust_id','cust_id_units_purchased_std']\n",
    "#train = train.merge(k3,on='cust_id',how='left')\n",
    "#test = test.merge(k3,on='cust_id',how='left')"
   ]
  },
  {
   "cell_type": "markdown",
   "metadata": {},
   "source": [
    "#### Feature Engineering\n",
    "Selecting features considering units_purchased"
   ]
  },
  {
   "cell_type": "code",
   "execution_count": 38,
   "metadata": {},
   "outputs": [],
   "source": [
    "k1 = data[['cust_id','month','units_purchased']].groupby(['cust_id','month']).agg('mean').reset_index()\n",
    "k1.columns = ['cust_id','month','cust_id_month_units_purchased_mean']\n",
    "train = train.merge(k1,on=['cust_id','month'],how='left')\n",
    "test = test.merge(k1,on=['cust_id','month'],how='left')\n",
    "\n",
    "k2 = data[['cust_id','month','units_purchased']].groupby(['cust_id','month']).agg('median').reset_index()\n",
    "k2.columns = ['cust_id','month','cust_id_month_units_purchased_median']\n",
    "train = train.merge(k2,on=['cust_id','month'],how='left')\n",
    "test = test.merge(k2,on=['cust_id','month'],how='left')\n",
    "\n",
    "k3 = data[['cust_id','month','units_purchased']].groupby(['cust_id','month']).agg('std').reset_index()\n",
    "k3.columns = ['cust_id','month','cust_id_month_units_purchased_std']\n",
    "train = train.merge(k3,on=['cust_id','month'],how='left')\n",
    "test = test.merge(k3,on=['cust_id','month'],how='left')"
   ]
  },
  {
   "cell_type": "markdown",
   "metadata": {},
   "source": [
    "### Customers with their monthly units purchased expenditure mean "
   ]
  },
  {
   "cell_type": "code",
   "execution_count": 39,
   "metadata": {},
   "outputs": [
    {
     "data": {
      "text/html": [
       "<div>\n",
       "<style scoped>\n",
       "    .dataframe tbody tr th:only-of-type {\n",
       "        vertical-align: middle;\n",
       "    }\n",
       "\n",
       "    .dataframe tbody tr th {\n",
       "        vertical-align: top;\n",
       "    }\n",
       "\n",
       "    .dataframe thead th {\n",
       "        text-align: right;\n",
       "    }\n",
       "</style>\n",
       "<table border=\"1\" class=\"dataframe\">\n",
       "  <thead>\n",
       "    <tr style=\"text-align: right;\">\n",
       "      <th></th>\n",
       "      <th>cust_id</th>\n",
       "      <th>month</th>\n",
       "      <th>cust_id_month_units_purchased_mean</th>\n",
       "    </tr>\n",
       "  </thead>\n",
       "  <tbody>\n",
       "    <tr>\n",
       "      <th>0</th>\n",
       "      <td>4005940437</td>\n",
       "      <td>1</td>\n",
       "      <td>2.850000</td>\n",
       "    </tr>\n",
       "    <tr>\n",
       "      <th>1</th>\n",
       "      <td>4005940437</td>\n",
       "      <td>2</td>\n",
       "      <td>2.772727</td>\n",
       "    </tr>\n",
       "    <tr>\n",
       "      <th>2</th>\n",
       "      <td>4005940437</td>\n",
       "      <td>3</td>\n",
       "      <td>4.321429</td>\n",
       "    </tr>\n",
       "    <tr>\n",
       "      <th>3</th>\n",
       "      <td>4005940437</td>\n",
       "      <td>4</td>\n",
       "      <td>2.181818</td>\n",
       "    </tr>\n",
       "    <tr>\n",
       "      <th>4</th>\n",
       "      <td>4005940437</td>\n",
       "      <td>10</td>\n",
       "      <td>2.333333</td>\n",
       "    </tr>\n",
       "  </tbody>\n",
       "</table>\n",
       "</div>"
      ],
      "text/plain": [
       "      cust_id  month  cust_id_month_units_purchased_mean\n",
       "0  4005940437      1                            2.850000\n",
       "1  4005940437      2                            2.772727\n",
       "2  4005940437      3                            4.321429\n",
       "3  4005940437      4                            2.181818\n",
       "4  4005940437     10                            2.333333"
      ]
     },
     "execution_count": 39,
     "metadata": {},
     "output_type": "execute_result"
    }
   ],
   "source": [
    "k1.head()"
   ]
  },
  {
   "cell_type": "markdown",
   "metadata": {},
   "source": [
    "Selecting features considering total_spent"
   ]
  },
  {
   "cell_type": "code",
   "execution_count": 40,
   "metadata": {},
   "outputs": [],
   "source": [
    "k1 = data[['cust_id','month','total_spend']].groupby(['cust_id','month']).agg('mean').reset_index()\n",
    "k1.columns = ['cust_id','month','cust_id_month_total_spend_mean']\n",
    "train = train.merge(k1,on=['cust_id','month'],how='left')\n",
    "test = test.merge(k1,on=['cust_id','month'],how='left')\n",
    "\n",
    "k2 = data[['cust_id','month','total_spend']].groupby(['cust_id','month']).agg('median').reset_index()\n",
    "k2.columns = ['cust_id','month','cust_id_month_total_spend_median']\n",
    "train = train.merge(k2,on=['cust_id','month'],how='left')\n",
    "test = test.merge(k2,on=['cust_id','month'],how='left')\n",
    "\n",
    "k3 = data[['cust_id','dayofweek','total_spend']].groupby(['cust_id','dayofweek']).agg('std').reset_index()\n",
    "k3.columns = ['cust_id','dayofweek','cust_id_dayofweek_total_spend_std']\n",
    "train = train.merge(k3,on=['cust_id','dayofweek'],how='left')\n",
    "test = test.merge(k3,on=['cust_id','dayofweek'],how='left')"
   ]
  },
  {
   "cell_type": "markdown",
   "metadata": {},
   "source": [
    "### Customers with their monthly total spend mean "
   ]
  },
  {
   "cell_type": "code",
   "execution_count": 41,
   "metadata": {},
   "outputs": [
    {
     "data": {
      "text/html": [
       "<div>\n",
       "<style scoped>\n",
       "    .dataframe tbody tr th:only-of-type {\n",
       "        vertical-align: middle;\n",
       "    }\n",
       "\n",
       "    .dataframe tbody tr th {\n",
       "        vertical-align: top;\n",
       "    }\n",
       "\n",
       "    .dataframe thead th {\n",
       "        text-align: right;\n",
       "    }\n",
       "</style>\n",
       "<table border=\"1\" class=\"dataframe\">\n",
       "  <thead>\n",
       "    <tr style=\"text-align: right;\">\n",
       "      <th></th>\n",
       "      <th>cust_id</th>\n",
       "      <th>month</th>\n",
       "      <th>cust_id_month_total_spend_mean</th>\n",
       "    </tr>\n",
       "  </thead>\n",
       "  <tbody>\n",
       "    <tr>\n",
       "      <th>0</th>\n",
       "      <td>4005940437</td>\n",
       "      <td>1</td>\n",
       "      <td>8.883500</td>\n",
       "    </tr>\n",
       "    <tr>\n",
       "      <th>1</th>\n",
       "      <td>4005940437</td>\n",
       "      <td>2</td>\n",
       "      <td>16.484091</td>\n",
       "    </tr>\n",
       "    <tr>\n",
       "      <th>2</th>\n",
       "      <td>4005940437</td>\n",
       "      <td>3</td>\n",
       "      <td>8.367143</td>\n",
       "    </tr>\n",
       "    <tr>\n",
       "      <th>3</th>\n",
       "      <td>4005940437</td>\n",
       "      <td>4</td>\n",
       "      <td>7.410000</td>\n",
       "    </tr>\n",
       "    <tr>\n",
       "      <th>4</th>\n",
       "      <td>4005940437</td>\n",
       "      <td>10</td>\n",
       "      <td>6.876667</td>\n",
       "    </tr>\n",
       "  </tbody>\n",
       "</table>\n",
       "</div>"
      ],
      "text/plain": [
       "      cust_id  month  cust_id_month_total_spend_mean\n",
       "0  4005940437      1                        8.883500\n",
       "1  4005940437      2                       16.484091\n",
       "2  4005940437      3                        8.367143\n",
       "3  4005940437      4                        7.410000\n",
       "4  4005940437     10                        6.876667"
      ]
     },
     "execution_count": 41,
     "metadata": {},
     "output_type": "execute_result"
    }
   ],
   "source": [
    "k1.head()"
   ]
  },
  {
   "cell_type": "markdown",
   "metadata": {},
   "source": [
    "Extracting customers going to different lanes and spending on units purchases. Test and training data set created for the same"
   ]
  },
  {
   "cell_type": "code",
   "execution_count": 42,
   "metadata": {},
   "outputs": [],
   "source": [
    "k1 = data[['cust_id','lane_number','total_spend']].groupby(['cust_id','lane_number']).agg('mean').reset_index()\n",
    "k1 = k1.pivot(index='cust_id', columns='lane_number', values='total_spend').reset_index().replace(np.nan,0)\n",
    "train = train.merge(k1,on=['cust_id'],how='left')\n",
    "test = test.merge(k1,on=['cust_id'],how='left')"
   ]
  },
  {
   "cell_type": "markdown",
   "metadata": {},
   "source": [
    "#### Customers visit to different lanes. Store owner can target which customers go to which lane very frequently so that they can offer some deal or promotional offers on the products which are in that lane"
   ]
  },
  {
   "cell_type": "code",
   "execution_count": 43,
   "metadata": {},
   "outputs": [
    {
     "data": {
      "text/html": [
       "<div>\n",
       "<style scoped>\n",
       "    .dataframe tbody tr th:only-of-type {\n",
       "        vertical-align: middle;\n",
       "    }\n",
       "\n",
       "    .dataframe tbody tr th {\n",
       "        vertical-align: top;\n",
       "    }\n",
       "\n",
       "    .dataframe thead th {\n",
       "        text-align: right;\n",
       "    }\n",
       "</style>\n",
       "<table border=\"1\" class=\"dataframe\">\n",
       "  <thead>\n",
       "    <tr style=\"text-align: right;\">\n",
       "      <th>lane_number</th>\n",
       "      <th>cust_id</th>\n",
       "      <th>1</th>\n",
       "      <th>2</th>\n",
       "      <th>3</th>\n",
       "      <th>4</th>\n",
       "      <th>5</th>\n",
       "      <th>6</th>\n",
       "      <th>7</th>\n",
       "      <th>8</th>\n",
       "      <th>9</th>\n",
       "      <th>10</th>\n",
       "      <th>11</th>\n",
       "      <th>15</th>\n",
       "      <th>17</th>\n",
       "    </tr>\n",
       "  </thead>\n",
       "  <tbody>\n",
       "    <tr>\n",
       "      <th>0</th>\n",
       "      <td>4005940437</td>\n",
       "      <td>26.138571</td>\n",
       "      <td>8.970088</td>\n",
       "      <td>11.441667</td>\n",
       "      <td>0.0</td>\n",
       "      <td>0.0</td>\n",
       "      <td>0.0</td>\n",
       "      <td>0.000</td>\n",
       "      <td>0.00</td>\n",
       "      <td>0.0</td>\n",
       "      <td>0.0</td>\n",
       "      <td>0.0</td>\n",
       "      <td>0.0</td>\n",
       "      <td>0.0</td>\n",
       "    </tr>\n",
       "    <tr>\n",
       "      <th>1</th>\n",
       "      <td>4005940737</td>\n",
       "      <td>0.000000</td>\n",
       "      <td>9.530000</td>\n",
       "      <td>5.970000</td>\n",
       "      <td>0.0</td>\n",
       "      <td>0.0</td>\n",
       "      <td>0.0</td>\n",
       "      <td>0.000</td>\n",
       "      <td>0.00</td>\n",
       "      <td>0.0</td>\n",
       "      <td>0.0</td>\n",
       "      <td>0.0</td>\n",
       "      <td>0.0</td>\n",
       "      <td>0.0</td>\n",
       "    </tr>\n",
       "    <tr>\n",
       "      <th>2</th>\n",
       "      <td>4005941333</td>\n",
       "      <td>47.821667</td>\n",
       "      <td>25.256250</td>\n",
       "      <td>20.362000</td>\n",
       "      <td>38.1</td>\n",
       "      <td>0.0</td>\n",
       "      <td>0.0</td>\n",
       "      <td>0.000</td>\n",
       "      <td>76.15</td>\n",
       "      <td>0.0</td>\n",
       "      <td>0.0</td>\n",
       "      <td>0.0</td>\n",
       "      <td>0.0</td>\n",
       "      <td>0.0</td>\n",
       "    </tr>\n",
       "    <tr>\n",
       "      <th>3</th>\n",
       "      <td>4005941434</td>\n",
       "      <td>3.000000</td>\n",
       "      <td>6.005000</td>\n",
       "      <td>15.872667</td>\n",
       "      <td>0.0</td>\n",
       "      <td>0.0</td>\n",
       "      <td>0.0</td>\n",
       "      <td>0.000</td>\n",
       "      <td>0.00</td>\n",
       "      <td>0.0</td>\n",
       "      <td>0.0</td>\n",
       "      <td>0.0</td>\n",
       "      <td>0.0</td>\n",
       "      <td>0.0</td>\n",
       "    </tr>\n",
       "    <tr>\n",
       "      <th>4</th>\n",
       "      <td>4005941533</td>\n",
       "      <td>33.640000</td>\n",
       "      <td>21.349444</td>\n",
       "      <td>14.127000</td>\n",
       "      <td>0.0</td>\n",
       "      <td>0.0</td>\n",
       "      <td>0.0</td>\n",
       "      <td>59.119</td>\n",
       "      <td>0.00</td>\n",
       "      <td>0.0</td>\n",
       "      <td>0.0</td>\n",
       "      <td>0.0</td>\n",
       "      <td>0.0</td>\n",
       "      <td>0.0</td>\n",
       "    </tr>\n",
       "  </tbody>\n",
       "</table>\n",
       "</div>"
      ],
      "text/plain": [
       "lane_number     cust_id          1          2          3     4    5    6  \\\n",
       "0            4005940437  26.138571   8.970088  11.441667   0.0  0.0  0.0   \n",
       "1            4005940737   0.000000   9.530000   5.970000   0.0  0.0  0.0   \n",
       "2            4005941333  47.821667  25.256250  20.362000  38.1  0.0  0.0   \n",
       "3            4005941434   3.000000   6.005000  15.872667   0.0  0.0  0.0   \n",
       "4            4005941533  33.640000  21.349444  14.127000   0.0  0.0  0.0   \n",
       "\n",
       "lane_number       7      8    9   10   11   15   17  \n",
       "0             0.000   0.00  0.0  0.0  0.0  0.0  0.0  \n",
       "1             0.000   0.00  0.0  0.0  0.0  0.0  0.0  \n",
       "2             0.000  76.15  0.0  0.0  0.0  0.0  0.0  \n",
       "3             0.000   0.00  0.0  0.0  0.0  0.0  0.0  \n",
       "4            59.119   0.00  0.0  0.0  0.0  0.0  0.0  "
      ]
     },
     "execution_count": 43,
     "metadata": {},
     "output_type": "execute_result"
    }
   ],
   "source": [
    "k1.head()"
   ]
  },
  {
   "cell_type": "markdown",
   "metadata": {},
   "source": [
    "Extracting customers' total_spend on monthly basis. This analysis shows nature of customer's shopping on monthly basis. Test and training data set created for the same"
   ]
  },
  {
   "cell_type": "code",
   "execution_count": 44,
   "metadata": {},
   "outputs": [],
   "source": [
    "data['year'] = data.order_date.dt.year"
   ]
  },
  {
   "cell_type": "code",
   "execution_count": 45,
   "metadata": {},
   "outputs": [],
   "source": [
    "k1 = data[['cust_id','month','total_spend']].groupby(['cust_id','month']).agg('mean').reset_index()\n",
    "k1 = k1.pivot(index='cust_id', columns='month', values='total_spend').reset_index().replace(np.nan,0)\n",
    "k1 = k1[['cust_id', 1, 2, 3, 4, 5, 6, 7, 8, 9, 10, 11, 12]]\n",
    "k1.columns = ['cust_id', 'm0', 'm1', 'm2', 'm3', 'm4', 'm5', 'm6','m7', 'm8', 'm9', 'm10', 'm11']\n",
    "train = train.merge(k1,on=['cust_id'],how='left')\n",
    "test = test.merge(k1,on=['cust_id'],how='left')"
   ]
  },
  {
   "cell_type": "markdown",
   "metadata": {},
   "source": [
    "Customers total spend mean on monthly basis. It is required to know which customers shop the most on which month"
   ]
  },
  {
   "cell_type": "code",
   "execution_count": 46,
   "metadata": {},
   "outputs": [
    {
     "data": {
      "text/html": [
       "<div>\n",
       "<style scoped>\n",
       "    .dataframe tbody tr th:only-of-type {\n",
       "        vertical-align: middle;\n",
       "    }\n",
       "\n",
       "    .dataframe tbody tr th {\n",
       "        vertical-align: top;\n",
       "    }\n",
       "\n",
       "    .dataframe thead th {\n",
       "        text-align: right;\n",
       "    }\n",
       "</style>\n",
       "<table border=\"1\" class=\"dataframe\">\n",
       "  <thead>\n",
       "    <tr style=\"text-align: right;\">\n",
       "      <th></th>\n",
       "      <th>cust_id</th>\n",
       "      <th>m0</th>\n",
       "      <th>m1</th>\n",
       "      <th>m2</th>\n",
       "      <th>m3</th>\n",
       "      <th>m4</th>\n",
       "      <th>m5</th>\n",
       "      <th>m6</th>\n",
       "      <th>m7</th>\n",
       "      <th>m8</th>\n",
       "      <th>m9</th>\n",
       "      <th>m10</th>\n",
       "      <th>m11</th>\n",
       "    </tr>\n",
       "  </thead>\n",
       "  <tbody>\n",
       "    <tr>\n",
       "      <th>0</th>\n",
       "      <td>4005940437</td>\n",
       "      <td>8.883500</td>\n",
       "      <td>16.484091</td>\n",
       "      <td>8.367143</td>\n",
       "      <td>7.410</td>\n",
       "      <td>0.000000</td>\n",
       "      <td>0.000000</td>\n",
       "      <td>0.000000</td>\n",
       "      <td>0.000000</td>\n",
       "      <td>0.000000</td>\n",
       "      <td>6.876667</td>\n",
       "      <td>11.532632</td>\n",
       "      <td>8.814762</td>\n",
       "    </tr>\n",
       "    <tr>\n",
       "      <th>1</th>\n",
       "      <td>4005940737</td>\n",
       "      <td>0.000000</td>\n",
       "      <td>8.870000</td>\n",
       "      <td>2.890000</td>\n",
       "      <td>0.000</td>\n",
       "      <td>0.000000</td>\n",
       "      <td>6.990000</td>\n",
       "      <td>27.670000</td>\n",
       "      <td>4.980000</td>\n",
       "      <td>0.000000</td>\n",
       "      <td>6.770000</td>\n",
       "      <td>0.000000</td>\n",
       "      <td>0.000000</td>\n",
       "    </tr>\n",
       "    <tr>\n",
       "      <th>2</th>\n",
       "      <td>4005941333</td>\n",
       "      <td>30.038000</td>\n",
       "      <td>5.832000</td>\n",
       "      <td>15.651250</td>\n",
       "      <td>35.025</td>\n",
       "      <td>62.855000</td>\n",
       "      <td>30.698333</td>\n",
       "      <td>36.560000</td>\n",
       "      <td>37.786667</td>\n",
       "      <td>25.047500</td>\n",
       "      <td>40.795000</td>\n",
       "      <td>61.336667</td>\n",
       "      <td>25.955000</td>\n",
       "    </tr>\n",
       "    <tr>\n",
       "      <th>3</th>\n",
       "      <td>4005941434</td>\n",
       "      <td>3.851429</td>\n",
       "      <td>23.132500</td>\n",
       "      <td>9.701111</td>\n",
       "      <td>5.164</td>\n",
       "      <td>3.300000</td>\n",
       "      <td>7.835714</td>\n",
       "      <td>5.812500</td>\n",
       "      <td>8.608000</td>\n",
       "      <td>3.911429</td>\n",
       "      <td>6.381000</td>\n",
       "      <td>5.850000</td>\n",
       "      <td>6.406667</td>\n",
       "    </tr>\n",
       "    <tr>\n",
       "      <th>4</th>\n",
       "      <td>4005941533</td>\n",
       "      <td>76.667500</td>\n",
       "      <td>32.330000</td>\n",
       "      <td>24.978182</td>\n",
       "      <td>7.375</td>\n",
       "      <td>36.091667</td>\n",
       "      <td>17.352000</td>\n",
       "      <td>14.347778</td>\n",
       "      <td>32.460000</td>\n",
       "      <td>24.063333</td>\n",
       "      <td>58.685000</td>\n",
       "      <td>24.152857</td>\n",
       "      <td>27.966000</td>\n",
       "    </tr>\n",
       "  </tbody>\n",
       "</table>\n",
       "</div>"
      ],
      "text/plain": [
       "      cust_id         m0         m1         m2      m3         m4         m5  \\\n",
       "0  4005940437   8.883500  16.484091   8.367143   7.410   0.000000   0.000000   \n",
       "1  4005940737   0.000000   8.870000   2.890000   0.000   0.000000   6.990000   \n",
       "2  4005941333  30.038000   5.832000  15.651250  35.025  62.855000  30.698333   \n",
       "3  4005941434   3.851429  23.132500   9.701111   5.164   3.300000   7.835714   \n",
       "4  4005941533  76.667500  32.330000  24.978182   7.375  36.091667  17.352000   \n",
       "\n",
       "          m6         m7         m8         m9        m10        m11  \n",
       "0   0.000000   0.000000   0.000000   6.876667  11.532632   8.814762  \n",
       "1  27.670000   4.980000   0.000000   6.770000   0.000000   0.000000  \n",
       "2  36.560000  37.786667  25.047500  40.795000  61.336667  25.955000  \n",
       "3   5.812500   8.608000   3.911429   6.381000   5.850000   6.406667  \n",
       "4  14.347778  32.460000  24.063333  58.685000  24.152857  27.966000  "
      ]
     },
     "execution_count": 46,
     "metadata": {},
     "output_type": "execute_result"
    }
   ],
   "source": [
    "k1.head()"
   ]
  },
  {
   "cell_type": "markdown",
   "metadata": {},
   "source": [
    "#### Customer's total spend on yearly basis. ( Note - We have 3 month of data in 2016 year)"
   ]
  },
  {
   "cell_type": "code",
   "execution_count": 47,
   "metadata": {},
   "outputs": [
    {
     "data": {
      "text/html": [
       "<div>\n",
       "<style scoped>\n",
       "    .dataframe tbody tr th:only-of-type {\n",
       "        vertical-align: middle;\n",
       "    }\n",
       "\n",
       "    .dataframe tbody tr th {\n",
       "        vertical-align: top;\n",
       "    }\n",
       "\n",
       "    .dataframe thead th {\n",
       "        text-align: right;\n",
       "    }\n",
       "</style>\n",
       "<table border=\"1\" class=\"dataframe\">\n",
       "  <thead>\n",
       "    <tr style=\"text-align: right;\">\n",
       "      <th></th>\n",
       "      <th>cust_id</th>\n",
       "      <th>year</th>\n",
       "      <th>total_spend</th>\n",
       "    </tr>\n",
       "  </thead>\n",
       "  <tbody>\n",
       "    <tr>\n",
       "      <th>0</th>\n",
       "      <td>4005940437</td>\n",
       "      <td>2015</td>\n",
       "      <td>9.363662</td>\n",
       "    </tr>\n",
       "    <tr>\n",
       "      <th>1</th>\n",
       "      <td>4005940437</td>\n",
       "      <td>2016</td>\n",
       "      <td>10.936129</td>\n",
       "    </tr>\n",
       "    <tr>\n",
       "      <th>2</th>\n",
       "      <td>4005940737</td>\n",
       "      <td>2015</td>\n",
       "      <td>10.278000</td>\n",
       "    </tr>\n",
       "    <tr>\n",
       "      <th>3</th>\n",
       "      <td>4005940737</td>\n",
       "      <td>2016</td>\n",
       "      <td>5.880000</td>\n",
       "    </tr>\n",
       "    <tr>\n",
       "      <th>4</th>\n",
       "      <td>4005941333</td>\n",
       "      <td>2015</td>\n",
       "      <td>37.803333</td>\n",
       "    </tr>\n",
       "    <tr>\n",
       "      <th>5</th>\n",
       "      <td>4005941333</td>\n",
       "      <td>2016</td>\n",
       "      <td>16.920000</td>\n",
       "    </tr>\n",
       "    <tr>\n",
       "      <th>6</th>\n",
       "      <td>4005941434</td>\n",
       "      <td>2015</td>\n",
       "      <td>5.722167</td>\n",
       "    </tr>\n",
       "    <tr>\n",
       "      <th>7</th>\n",
       "      <td>4005941434</td>\n",
       "      <td>2016</td>\n",
       "      <td>13.367727</td>\n",
       "    </tr>\n",
       "    <tr>\n",
       "      <th>8</th>\n",
       "      <td>4005941533</td>\n",
       "      <td>2015</td>\n",
       "      <td>24.554545</td>\n",
       "    </tr>\n",
       "    <tr>\n",
       "      <th>9</th>\n",
       "      <td>4005941533</td>\n",
       "      <td>2016</td>\n",
       "      <td>41.990000</td>\n",
       "    </tr>\n",
       "    <tr>\n",
       "      <th>10</th>\n",
       "      <td>4005942134</td>\n",
       "      <td>2015</td>\n",
       "      <td>33.090833</td>\n",
       "    </tr>\n",
       "    <tr>\n",
       "      <th>11</th>\n",
       "      <td>4005942134</td>\n",
       "      <td>2016</td>\n",
       "      <td>26.486667</td>\n",
       "    </tr>\n",
       "    <tr>\n",
       "      <th>12</th>\n",
       "      <td>4005942136</td>\n",
       "      <td>2015</td>\n",
       "      <td>28.479221</td>\n",
       "    </tr>\n",
       "    <tr>\n",
       "      <th>13</th>\n",
       "      <td>4005942136</td>\n",
       "      <td>2016</td>\n",
       "      <td>28.501818</td>\n",
       "    </tr>\n",
       "    <tr>\n",
       "      <th>14</th>\n",
       "      <td>4005942236</td>\n",
       "      <td>2015</td>\n",
       "      <td>27.305660</td>\n",
       "    </tr>\n",
       "    <tr>\n",
       "      <th>15</th>\n",
       "      <td>4005942236</td>\n",
       "      <td>2016</td>\n",
       "      <td>21.347647</td>\n",
       "    </tr>\n",
       "    <tr>\n",
       "      <th>16</th>\n",
       "      <td>4005942935</td>\n",
       "      <td>2015</td>\n",
       "      <td>20.938333</td>\n",
       "    </tr>\n",
       "    <tr>\n",
       "      <th>17</th>\n",
       "      <td>4005942935</td>\n",
       "      <td>2016</td>\n",
       "      <td>15.146667</td>\n",
       "    </tr>\n",
       "    <tr>\n",
       "      <th>18</th>\n",
       "      <td>4005943237</td>\n",
       "      <td>2015</td>\n",
       "      <td>15.284091</td>\n",
       "    </tr>\n",
       "    <tr>\n",
       "      <th>19</th>\n",
       "      <td>4005943237</td>\n",
       "      <td>2016</td>\n",
       "      <td>22.905714</td>\n",
       "    </tr>\n",
       "    <tr>\n",
       "      <th>20</th>\n",
       "      <td>4005944334</td>\n",
       "      <td>2015</td>\n",
       "      <td>29.686250</td>\n",
       "    </tr>\n",
       "    <tr>\n",
       "      <th>21</th>\n",
       "      <td>4005944334</td>\n",
       "      <td>2016</td>\n",
       "      <td>32.574000</td>\n",
       "    </tr>\n",
       "    <tr>\n",
       "      <th>22</th>\n",
       "      <td>4005945334</td>\n",
       "      <td>2015</td>\n",
       "      <td>20.681667</td>\n",
       "    </tr>\n",
       "    <tr>\n",
       "      <th>23</th>\n",
       "      <td>4005945334</td>\n",
       "      <td>2016</td>\n",
       "      <td>19.745000</td>\n",
       "    </tr>\n",
       "    <tr>\n",
       "      <th>24</th>\n",
       "      <td>4005945337</td>\n",
       "      <td>2015</td>\n",
       "      <td>43.361176</td>\n",
       "    </tr>\n",
       "    <tr>\n",
       "      <th>25</th>\n",
       "      <td>4005945337</td>\n",
       "      <td>2016</td>\n",
       "      <td>43.665714</td>\n",
       "    </tr>\n",
       "    <tr>\n",
       "      <th>26</th>\n",
       "      <td>4005945837</td>\n",
       "      <td>2015</td>\n",
       "      <td>12.514091</td>\n",
       "    </tr>\n",
       "    <tr>\n",
       "      <th>27</th>\n",
       "      <td>4005945837</td>\n",
       "      <td>2016</td>\n",
       "      <td>9.331250</td>\n",
       "    </tr>\n",
       "    <tr>\n",
       "      <th>28</th>\n",
       "      <td>4005946434</td>\n",
       "      <td>2015</td>\n",
       "      <td>32.133750</td>\n",
       "    </tr>\n",
       "    <tr>\n",
       "      <th>29</th>\n",
       "      <td>4005946434</td>\n",
       "      <td>2016</td>\n",
       "      <td>19.594000</td>\n",
       "    </tr>\n",
       "    <tr>\n",
       "      <th>...</th>\n",
       "      <td>...</td>\n",
       "      <td>...</td>\n",
       "      <td>...</td>\n",
       "    </tr>\n",
       "    <tr>\n",
       "      <th>23455</th>\n",
       "      <td>7149810735</td>\n",
       "      <td>2016</td>\n",
       "      <td>48.580000</td>\n",
       "    </tr>\n",
       "    <tr>\n",
       "      <th>23456</th>\n",
       "      <td>7149810835</td>\n",
       "      <td>2016</td>\n",
       "      <td>8.060000</td>\n",
       "    </tr>\n",
       "    <tr>\n",
       "      <th>23457</th>\n",
       "      <td>7149810836</td>\n",
       "      <td>2016</td>\n",
       "      <td>52.240000</td>\n",
       "    </tr>\n",
       "    <tr>\n",
       "      <th>23458</th>\n",
       "      <td>7152393734</td>\n",
       "      <td>2016</td>\n",
       "      <td>2.990000</td>\n",
       "    </tr>\n",
       "    <tr>\n",
       "      <th>23459</th>\n",
       "      <td>7152393736</td>\n",
       "      <td>2016</td>\n",
       "      <td>21.060000</td>\n",
       "    </tr>\n",
       "    <tr>\n",
       "      <th>23460</th>\n",
       "      <td>7152393737</td>\n",
       "      <td>2016</td>\n",
       "      <td>13.490000</td>\n",
       "    </tr>\n",
       "    <tr>\n",
       "      <th>23461</th>\n",
       "      <td>7152393834</td>\n",
       "      <td>2016</td>\n",
       "      <td>205.950000</td>\n",
       "    </tr>\n",
       "    <tr>\n",
       "      <th>23462</th>\n",
       "      <td>7152393835</td>\n",
       "      <td>2016</td>\n",
       "      <td>8.790000</td>\n",
       "    </tr>\n",
       "    <tr>\n",
       "      <th>23463</th>\n",
       "      <td>7152394033</td>\n",
       "      <td>2016</td>\n",
       "      <td>66.450000</td>\n",
       "    </tr>\n",
       "    <tr>\n",
       "      <th>23464</th>\n",
       "      <td>7152394135</td>\n",
       "      <td>2016</td>\n",
       "      <td>18.780000</td>\n",
       "    </tr>\n",
       "    <tr>\n",
       "      <th>23465</th>\n",
       "      <td>7152394333</td>\n",
       "      <td>2016</td>\n",
       "      <td>7.980000</td>\n",
       "    </tr>\n",
       "    <tr>\n",
       "      <th>23466</th>\n",
       "      <td>7152394433</td>\n",
       "      <td>2016</td>\n",
       "      <td>15.990000</td>\n",
       "    </tr>\n",
       "    <tr>\n",
       "      <th>23467</th>\n",
       "      <td>7152394436</td>\n",
       "      <td>2016</td>\n",
       "      <td>10.840000</td>\n",
       "    </tr>\n",
       "    <tr>\n",
       "      <th>23468</th>\n",
       "      <td>7152394437</td>\n",
       "      <td>2016</td>\n",
       "      <td>14.780000</td>\n",
       "    </tr>\n",
       "    <tr>\n",
       "      <th>23469</th>\n",
       "      <td>7152394533</td>\n",
       "      <td>2016</td>\n",
       "      <td>16.990000</td>\n",
       "    </tr>\n",
       "    <tr>\n",
       "      <th>23470</th>\n",
       "      <td>7152394534</td>\n",
       "      <td>2016</td>\n",
       "      <td>16.480000</td>\n",
       "    </tr>\n",
       "    <tr>\n",
       "      <th>23471</th>\n",
       "      <td>7152394535</td>\n",
       "      <td>2016</td>\n",
       "      <td>17.270000</td>\n",
       "    </tr>\n",
       "    <tr>\n",
       "      <th>23472</th>\n",
       "      <td>7152394637</td>\n",
       "      <td>2016</td>\n",
       "      <td>10.780000</td>\n",
       "    </tr>\n",
       "    <tr>\n",
       "      <th>23473</th>\n",
       "      <td>7152394733</td>\n",
       "      <td>2016</td>\n",
       "      <td>3.190000</td>\n",
       "    </tr>\n",
       "    <tr>\n",
       "      <th>23474</th>\n",
       "      <td>7152394833</td>\n",
       "      <td>2016</td>\n",
       "      <td>26.770000</td>\n",
       "    </tr>\n",
       "    <tr>\n",
       "      <th>23475</th>\n",
       "      <td>7152395837</td>\n",
       "      <td>2016</td>\n",
       "      <td>17.780000</td>\n",
       "    </tr>\n",
       "    <tr>\n",
       "      <th>23476</th>\n",
       "      <td>7152395934</td>\n",
       "      <td>2016</td>\n",
       "      <td>19.000000</td>\n",
       "    </tr>\n",
       "    <tr>\n",
       "      <th>23477</th>\n",
       "      <td>7152395935</td>\n",
       "      <td>2016</td>\n",
       "      <td>39.990000</td>\n",
       "    </tr>\n",
       "    <tr>\n",
       "      <th>23478</th>\n",
       "      <td>7152395936</td>\n",
       "      <td>2016</td>\n",
       "      <td>16.570000</td>\n",
       "    </tr>\n",
       "    <tr>\n",
       "      <th>23479</th>\n",
       "      <td>7152395937</td>\n",
       "      <td>2016</td>\n",
       "      <td>15.260000</td>\n",
       "    </tr>\n",
       "    <tr>\n",
       "      <th>23480</th>\n",
       "      <td>7155156735</td>\n",
       "      <td>2016</td>\n",
       "      <td>16.990000</td>\n",
       "    </tr>\n",
       "    <tr>\n",
       "      <th>23481</th>\n",
       "      <td>7166190033</td>\n",
       "      <td>2016</td>\n",
       "      <td>15.475000</td>\n",
       "    </tr>\n",
       "    <tr>\n",
       "      <th>23482</th>\n",
       "      <td>7166190034</td>\n",
       "      <td>2016</td>\n",
       "      <td>33.260000</td>\n",
       "    </tr>\n",
       "    <tr>\n",
       "      <th>23483</th>\n",
       "      <td>7166190035</td>\n",
       "      <td>2016</td>\n",
       "      <td>29.470000</td>\n",
       "    </tr>\n",
       "    <tr>\n",
       "      <th>23484</th>\n",
       "      <td>7166190036</td>\n",
       "      <td>2016</td>\n",
       "      <td>3.950000</td>\n",
       "    </tr>\n",
       "  </tbody>\n",
       "</table>\n",
       "<p>23485 rows × 3 columns</p>\n",
       "</div>"
      ],
      "text/plain": [
       "          cust_id  year  total_spend\n",
       "0      4005940437  2015     9.363662\n",
       "1      4005940437  2016    10.936129\n",
       "2      4005940737  2015    10.278000\n",
       "3      4005940737  2016     5.880000\n",
       "4      4005941333  2015    37.803333\n",
       "5      4005941333  2016    16.920000\n",
       "6      4005941434  2015     5.722167\n",
       "7      4005941434  2016    13.367727\n",
       "8      4005941533  2015    24.554545\n",
       "9      4005941533  2016    41.990000\n",
       "10     4005942134  2015    33.090833\n",
       "11     4005942134  2016    26.486667\n",
       "12     4005942136  2015    28.479221\n",
       "13     4005942136  2016    28.501818\n",
       "14     4005942236  2015    27.305660\n",
       "15     4005942236  2016    21.347647\n",
       "16     4005942935  2015    20.938333\n",
       "17     4005942935  2016    15.146667\n",
       "18     4005943237  2015    15.284091\n",
       "19     4005943237  2016    22.905714\n",
       "20     4005944334  2015    29.686250\n",
       "21     4005944334  2016    32.574000\n",
       "22     4005945334  2015    20.681667\n",
       "23     4005945334  2016    19.745000\n",
       "24     4005945337  2015    43.361176\n",
       "25     4005945337  2016    43.665714\n",
       "26     4005945837  2015    12.514091\n",
       "27     4005945837  2016     9.331250\n",
       "28     4005946434  2015    32.133750\n",
       "29     4005946434  2016    19.594000\n",
       "...           ...   ...          ...\n",
       "23455  7149810735  2016    48.580000\n",
       "23456  7149810835  2016     8.060000\n",
       "23457  7149810836  2016    52.240000\n",
       "23458  7152393734  2016     2.990000\n",
       "23459  7152393736  2016    21.060000\n",
       "23460  7152393737  2016    13.490000\n",
       "23461  7152393834  2016   205.950000\n",
       "23462  7152393835  2016     8.790000\n",
       "23463  7152394033  2016    66.450000\n",
       "23464  7152394135  2016    18.780000\n",
       "23465  7152394333  2016     7.980000\n",
       "23466  7152394433  2016    15.990000\n",
       "23467  7152394436  2016    10.840000\n",
       "23468  7152394437  2016    14.780000\n",
       "23469  7152394533  2016    16.990000\n",
       "23470  7152394534  2016    16.480000\n",
       "23471  7152394535  2016    17.270000\n",
       "23472  7152394637  2016    10.780000\n",
       "23473  7152394733  2016     3.190000\n",
       "23474  7152394833  2016    26.770000\n",
       "23475  7152395837  2016    17.780000\n",
       "23476  7152395934  2016    19.000000\n",
       "23477  7152395935  2016    39.990000\n",
       "23478  7152395936  2016    16.570000\n",
       "23479  7152395937  2016    15.260000\n",
       "23480  7155156735  2016    16.990000\n",
       "23481  7166190033  2016    15.475000\n",
       "23482  7166190034  2016    33.260000\n",
       "23483  7166190035  2016    29.470000\n",
       "23484  7166190036  2016     3.950000\n",
       "\n",
       "[23485 rows x 3 columns]"
      ]
     },
     "execution_count": 47,
     "metadata": {},
     "output_type": "execute_result"
    }
   ],
   "source": [
    "data[['cust_id','year','total_spend']].groupby(['cust_id','year']).agg('mean').reset_index()"
   ]
  },
  {
   "cell_type": "code",
   "execution_count": 48,
   "metadata": {},
   "outputs": [],
   "source": [
    "k1 = data[['cust_id','month','total_spend']].groupby(['cust_id','month']).agg('mean').reset_index()\n",
    "k1 = k1.pivot(index='cust_id', columns='month', values='total_spend').reset_index().replace(np.nan,0)\n",
    "k1 = k1[['cust_id', 1, 2, 3, 4, 5, 6, 7, 8, 9, 10, 11, 12]]\n",
    "k1.columns = ['cust_id', 'm0', 'm1', 'm2', 'm3', 'm4', 'm5', 'm6','m7', 'm8', 'm9', 'm10', 'm11']\n",
    "train = train.merge(k1,on=['cust_id'],how='left')\n",
    "test = test.merge(k1,on=['cust_id'],how='left')"
   ]
  },
  {
   "cell_type": "code",
   "execution_count": 49,
   "metadata": {},
   "outputs": [],
   "source": [
    "k1 = data[['cust_id','month','total_spend']].groupby(['cust_id','month']).agg('count').reset_index()\n",
    "k1.columns = ['cust_id','month','cust_id_month_count']\n",
    "train = train.merge(k1,on=['cust_id','month'],how='left')\n",
    "test = test.merge(k1,on=['cust_id','month'],how='left')"
   ]
  },
  {
   "cell_type": "markdown",
   "metadata": {},
   "source": [
    "#### Customer's monthly visit count to the store."
   ]
  },
  {
   "cell_type": "code",
   "execution_count": 51,
   "metadata": {},
   "outputs": [
    {
     "data": {
      "text/html": [
       "<div>\n",
       "<style scoped>\n",
       "    .dataframe tbody tr th:only-of-type {\n",
       "        vertical-align: middle;\n",
       "    }\n",
       "\n",
       "    .dataframe tbody tr th {\n",
       "        vertical-align: top;\n",
       "    }\n",
       "\n",
       "    .dataframe thead th {\n",
       "        text-align: right;\n",
       "    }\n",
       "</style>\n",
       "<table border=\"1\" class=\"dataframe\">\n",
       "  <thead>\n",
       "    <tr style=\"text-align: right;\">\n",
       "      <th></th>\n",
       "      <th>cust_id</th>\n",
       "      <th>month</th>\n",
       "      <th>cust_id_month_count</th>\n",
       "    </tr>\n",
       "  </thead>\n",
       "  <tbody>\n",
       "    <tr>\n",
       "      <th>0</th>\n",
       "      <td>4005940437</td>\n",
       "      <td>1</td>\n",
       "      <td>20</td>\n",
       "    </tr>\n",
       "    <tr>\n",
       "      <th>1</th>\n",
       "      <td>4005940437</td>\n",
       "      <td>2</td>\n",
       "      <td>22</td>\n",
       "    </tr>\n",
       "    <tr>\n",
       "      <th>2</th>\n",
       "      <td>4005940437</td>\n",
       "      <td>3</td>\n",
       "      <td>28</td>\n",
       "    </tr>\n",
       "    <tr>\n",
       "      <th>3</th>\n",
       "      <td>4005940437</td>\n",
       "      <td>4</td>\n",
       "      <td>11</td>\n",
       "    </tr>\n",
       "    <tr>\n",
       "      <th>4</th>\n",
       "      <td>4005940437</td>\n",
       "      <td>10</td>\n",
       "      <td>12</td>\n",
       "    </tr>\n",
       "    <tr>\n",
       "      <th>5</th>\n",
       "      <td>4005940437</td>\n",
       "      <td>11</td>\n",
       "      <td>19</td>\n",
       "    </tr>\n",
       "    <tr>\n",
       "      <th>6</th>\n",
       "      <td>4005940437</td>\n",
       "      <td>12</td>\n",
       "      <td>21</td>\n",
       "    </tr>\n",
       "    <tr>\n",
       "      <th>7</th>\n",
       "      <td>4005940737</td>\n",
       "      <td>2</td>\n",
       "      <td>1</td>\n",
       "    </tr>\n",
       "    <tr>\n",
       "      <th>8</th>\n",
       "      <td>4005940737</td>\n",
       "      <td>3</td>\n",
       "      <td>1</td>\n",
       "    </tr>\n",
       "    <tr>\n",
       "      <th>9</th>\n",
       "      <td>4005940737</td>\n",
       "      <td>6</td>\n",
       "      <td>1</td>\n",
       "    </tr>\n",
       "  </tbody>\n",
       "</table>\n",
       "</div>"
      ],
      "text/plain": [
       "      cust_id  month  cust_id_month_count\n",
       "0  4005940437      1                   20\n",
       "1  4005940437      2                   22\n",
       "2  4005940437      3                   28\n",
       "3  4005940437      4                   11\n",
       "4  4005940437     10                   12\n",
       "5  4005940437     11                   19\n",
       "6  4005940437     12                   21\n",
       "7  4005940737      2                    1\n",
       "8  4005940737      3                    1\n",
       "9  4005940737      6                    1"
      ]
     },
     "execution_count": 51,
     "metadata": {},
     "output_type": "execute_result"
    }
   ],
   "source": [
    "k1.head(10)"
   ]
  },
  {
   "cell_type": "code",
   "execution_count": 52,
   "metadata": {},
   "outputs": [],
   "source": [
    "k1 = data[['cust_id','total_spend']].groupby(['cust_id']).agg('count').reset_index()\n",
    "k1.columns = ['cust_id','cust_id_count']\n",
    "train = train.merge(k1,on=['cust_id'],how='left')\n",
    "test = test.merge(k1,on=['cust_id'],how='left')"
   ]
  },
  {
   "cell_type": "markdown",
   "metadata": {},
   "source": [
    "#### Each customer's total spend sum throughout the tenure"
   ]
  },
  {
   "cell_type": "code",
   "execution_count": 56,
   "metadata": {},
   "outputs": [
    {
     "data": {
      "text/html": [
       "<div>\n",
       "<style scoped>\n",
       "    .dataframe tbody tr th:only-of-type {\n",
       "        vertical-align: middle;\n",
       "    }\n",
       "\n",
       "    .dataframe tbody tr th {\n",
       "        vertical-align: top;\n",
       "    }\n",
       "\n",
       "    .dataframe thead th {\n",
       "        text-align: right;\n",
       "    }\n",
       "</style>\n",
       "<table border=\"1\" class=\"dataframe\">\n",
       "  <thead>\n",
       "    <tr style=\"text-align: right;\">\n",
       "      <th></th>\n",
       "      <th>cust_id</th>\n",
       "      <th>cust_id_count</th>\n",
       "    </tr>\n",
       "  </thead>\n",
       "  <tbody>\n",
       "    <tr>\n",
       "      <th>0</th>\n",
       "      <td>4005940437</td>\n",
       "      <td>133</td>\n",
       "    </tr>\n",
       "    <tr>\n",
       "      <th>1</th>\n",
       "      <td>4005940737</td>\n",
       "      <td>7</td>\n",
       "    </tr>\n",
       "    <tr>\n",
       "      <th>2</th>\n",
       "      <td>4005941333</td>\n",
       "      <td>45</td>\n",
       "    </tr>\n",
       "    <tr>\n",
       "      <th>3</th>\n",
       "      <td>4005941434</td>\n",
       "      <td>82</td>\n",
       "    </tr>\n",
       "    <tr>\n",
       "      <th>4</th>\n",
       "      <td>4005941533</td>\n",
       "      <td>69</td>\n",
       "    </tr>\n",
       "  </tbody>\n",
       "</table>\n",
       "</div>"
      ],
      "text/plain": [
       "      cust_id  cust_id_count\n",
       "0  4005940437            133\n",
       "1  4005940737              7\n",
       "2  4005941333             45\n",
       "3  4005941434             82\n",
       "4  4005941533             69"
      ]
     },
     "execution_count": 56,
     "metadata": {},
     "output_type": "execute_result"
    }
   ],
   "source": [
    "k1.head()"
   ]
  },
  {
   "cell_type": "markdown",
   "metadata": {},
   "source": [
    "Below Analysis shows how active the customers were during the first week of month. People get paid on first week so they should shop more too"
   ]
  },
  {
   "cell_type": "code",
   "execution_count": 57,
   "metadata": {},
   "outputs": [],
   "source": [
    "k1 = data[['cust_id','is_month_start','total_spend']].groupby(['cust_id','is_month_start']).agg('mean').reset_index()\n",
    "k1 = k1.pivot(index='cust_id', columns='is_month_start', values='total_spend').reset_index().replace(np.nan,0)\n",
    "k1.columns = ['cust_id', 'is_month_start0', 'is_month_start1']\n",
    "train = train.merge(k1,on=['cust_id'],how='left')\n",
    "test = test.merge(k1,on=['cust_id'],how='left')"
   ]
  },
  {
   "cell_type": "markdown",
   "metadata": {},
   "source": [
    "#### Customer's total spend summary history  if month is started i.e. is_month_start1 and when the month is not started i.e. is_month_start0"
   ]
  },
  {
   "cell_type": "code",
   "execution_count": 61,
   "metadata": {},
   "outputs": [
    {
     "data": {
      "text/html": [
       "<div>\n",
       "<style scoped>\n",
       "    .dataframe tbody tr th:only-of-type {\n",
       "        vertical-align: middle;\n",
       "    }\n",
       "\n",
       "    .dataframe tbody tr th {\n",
       "        vertical-align: top;\n",
       "    }\n",
       "\n",
       "    .dataframe thead th {\n",
       "        text-align: right;\n",
       "    }\n",
       "</style>\n",
       "<table border=\"1\" class=\"dataframe\">\n",
       "  <thead>\n",
       "    <tr style=\"text-align: right;\">\n",
       "      <th></th>\n",
       "      <th>cust_id</th>\n",
       "      <th>is_month_start0</th>\n",
       "      <th>is_month_start1</th>\n",
       "    </tr>\n",
       "  </thead>\n",
       "  <tbody>\n",
       "    <tr>\n",
       "      <th>0</th>\n",
       "      <td>4005940437</td>\n",
       "      <td>10.144331</td>\n",
       "      <td>9.088333</td>\n",
       "    </tr>\n",
       "    <tr>\n",
       "      <th>1</th>\n",
       "      <td>4005940737</td>\n",
       "      <td>9.021429</td>\n",
       "      <td>0.000000</td>\n",
       "    </tr>\n",
       "    <tr>\n",
       "      <th>2</th>\n",
       "      <td>4005941333</td>\n",
       "      <td>29.044419</td>\n",
       "      <td>38.170000</td>\n",
       "    </tr>\n",
       "    <tr>\n",
       "      <th>3</th>\n",
       "      <td>4005941434</td>\n",
       "      <td>7.838642</td>\n",
       "      <td>2.490000</td>\n",
       "    </tr>\n",
       "    <tr>\n",
       "      <th>4</th>\n",
       "      <td>4005941533</td>\n",
       "      <td>27.858382</td>\n",
       "      <td>43.990000</td>\n",
       "    </tr>\n",
       "  </tbody>\n",
       "</table>\n",
       "</div>"
      ],
      "text/plain": [
       "      cust_id  is_month_start0  is_month_start1\n",
       "0  4005940437        10.144331         9.088333\n",
       "1  4005940737         9.021429         0.000000\n",
       "2  4005941333        29.044419        38.170000\n",
       "3  4005941434         7.838642         2.490000\n",
       "4  4005941533        27.858382        43.990000"
      ]
     },
     "execution_count": 61,
     "metadata": {},
     "output_type": "execute_result"
    }
   ],
   "source": [
    "k1.head()"
   ]
  },
  {
   "cell_type": "code",
   "execution_count": 62,
   "metadata": {},
   "outputs": [],
   "source": [
    "k1 = data[['cust_id','is_month_end','total_spend']].groupby(['cust_id','is_month_end']).agg('mean').reset_index()\n",
    "k1 = k1.pivot(index='cust_id', columns='is_month_end', values='total_spend').reset_index().replace(np.nan,0)\n",
    "k1.columns = ['cust_id', 'is_month_end0', 'is_month_end1']\n",
    "train = train.replace(np.nan,-1)\n",
    "test = test.replace(np.nan,-1)\n",
    "train = train.merge(k1,on=['cust_id'],how='left')\n",
    "test = test.merge(k1,on=['cust_id'],how='left')"
   ]
  },
  {
   "cell_type": "markdown",
   "metadata": {},
   "source": [
    "#### Customer's total spend summary history  if month is ended i.e. is_month_start1 and when the month is not ended i.e. is_month_start0"
   ]
  },
  {
   "cell_type": "code",
   "execution_count": 64,
   "metadata": {},
   "outputs": [
    {
     "data": {
      "text/html": [
       "<div>\n",
       "<style scoped>\n",
       "    .dataframe tbody tr th:only-of-type {\n",
       "        vertical-align: middle;\n",
       "    }\n",
       "\n",
       "    .dataframe tbody tr th {\n",
       "        vertical-align: top;\n",
       "    }\n",
       "\n",
       "    .dataframe thead th {\n",
       "        text-align: right;\n",
       "    }\n",
       "</style>\n",
       "<table border=\"1\" class=\"dataframe\">\n",
       "  <thead>\n",
       "    <tr style=\"text-align: right;\">\n",
       "      <th></th>\n",
       "      <th>cust_id</th>\n",
       "      <th>is_month_end0</th>\n",
       "      <th>is_month_end1</th>\n",
       "    </tr>\n",
       "  </thead>\n",
       "  <tbody>\n",
       "    <tr>\n",
       "      <th>0</th>\n",
       "      <td>4005940437</td>\n",
       "      <td>10.151395</td>\n",
       "      <td>8.3325</td>\n",
       "    </tr>\n",
       "    <tr>\n",
       "      <th>1</th>\n",
       "      <td>4005940737</td>\n",
       "      <td>9.021429</td>\n",
       "      <td>0.0000</td>\n",
       "    </tr>\n",
       "    <tr>\n",
       "      <th>2</th>\n",
       "      <td>4005941333</td>\n",
       "      <td>27.783571</td>\n",
       "      <td>52.7800</td>\n",
       "    </tr>\n",
       "    <tr>\n",
       "      <th>3</th>\n",
       "      <td>4005941434</td>\n",
       "      <td>7.781975</td>\n",
       "      <td>7.0800</td>\n",
       "    </tr>\n",
       "    <tr>\n",
       "      <th>4</th>\n",
       "      <td>4005941533</td>\n",
       "      <td>28.488971</td>\n",
       "      <td>1.1100</td>\n",
       "    </tr>\n",
       "  </tbody>\n",
       "</table>\n",
       "</div>"
      ],
      "text/plain": [
       "      cust_id  is_month_end0  is_month_end1\n",
       "0  4005940437      10.151395         8.3325\n",
       "1  4005940737       9.021429         0.0000\n",
       "2  4005941333      27.783571        52.7800\n",
       "3  4005941434       7.781975         7.0800\n",
       "4  4005941533      28.488971         1.1100"
      ]
     },
     "execution_count": 64,
     "metadata": {},
     "output_type": "execute_result"
    }
   ],
   "source": [
    "k1.head()"
   ]
  },
  {
   "cell_type": "markdown",
   "metadata": {},
   "source": [
    "#### Above two cells analysis show that how much the customer active during month start, month end, month month not started, month not ended"
   ]
  },
  {
   "cell_type": "code",
   "execution_count": 65,
   "metadata": {},
   "outputs": [
    {
     "data": {
      "text/plain": [
       "(['target'], [])"
      ]
     },
     "execution_count": 65,
     "metadata": {},
     "output_type": "execute_result"
    }
   ],
   "source": [
    "# columns common \n",
    "[i for i in train.columns if i not in test.columns],[i for i in test.columns if i not in train.columns]"
   ]
  },
  {
   "cell_type": "markdown",
   "metadata": {},
   "source": [
    "#### Applying Randome Forest Classifier"
   ]
  },
  {
   "cell_type": "code",
   "execution_count": 66,
   "metadata": {},
   "outputs": [
    {
     "name": "stderr",
     "output_type": "stream",
     "text": [
      "/home/akshaysaxena323/.local/lib/python2.7/site-packages/sklearn/utils/__init__.py:10: RuntimeWarning: numpy.dtype size changed, may indicate binary incompatibility. Expected 96, got 80\n",
      "  from .murmurhash import murmurhash3_32\n",
      "/home/akshaysaxena323/.local/lib/python2.7/site-packages/sklearn/utils/__init__.py:10: RuntimeWarning: numpy.ufunc size changed, may indicate binary incompatibility. Expected 192, got 144\n",
      "  from .murmurhash import murmurhash3_32\n",
      "/home/akshaysaxena323/.local/lib/python2.7/site-packages/sklearn/utils/extmath.py:24: RuntimeWarning: numpy.dtype size changed, may indicate binary incompatibility. Expected 96, got 80\n",
      "  from ._logistic_sigmoid import _log_logistic_sigmoid\n",
      "/home/akshaysaxena323/.local/lib/python2.7/site-packages/sklearn/utils/extmath.py:24: RuntimeWarning: numpy.ufunc size changed, may indicate binary incompatibility. Expected 192, got 144\n",
      "  from ._logistic_sigmoid import _log_logistic_sigmoid\n",
      "/home/akshaysaxena323/.local/lib/python2.7/site-packages/sklearn/utils/extmath.py:26: RuntimeWarning: numpy.dtype size changed, may indicate binary incompatibility. Expected 96, got 80\n",
      "  from .sparsefuncs_fast import csr_row_norms\n",
      "/home/akshaysaxena323/.local/lib/python2.7/site-packages/sklearn/utils/extmath.py:26: RuntimeWarning: numpy.ufunc size changed, may indicate binary incompatibility. Expected 192, got 144\n",
      "  from .sparsefuncs_fast import csr_row_norms\n",
      "/home/akshaysaxena323/.local/lib/python2.7/site-packages/sklearn/utils/random.py:12: RuntimeWarning: numpy.dtype size changed, may indicate binary incompatibility. Expected 96, got 80\n",
      "  from ._random import sample_without_replacement\n",
      "/home/akshaysaxena323/.local/lib/python2.7/site-packages/sklearn/utils/random.py:12: RuntimeWarning: numpy.ufunc size changed, may indicate binary incompatibility. Expected 192, got 144\n",
      "  from ._random import sample_without_replacement\n",
      "/home/akshaysaxena323/.local/lib/python2.7/site-packages/sklearn/metrics/cluster/supervised.py:24: RuntimeWarning: numpy.dtype size changed, may indicate binary incompatibility. Expected 96, got 80\n",
      "  from .expected_mutual_info_fast import expected_mutual_information\n",
      "/home/akshaysaxena323/.local/lib/python2.7/site-packages/sklearn/metrics/cluster/supervised.py:24: RuntimeWarning: numpy.ufunc size changed, may indicate binary incompatibility. Expected 192, got 144\n",
      "  from .expected_mutual_info_fast import expected_mutual_information\n",
      "/home/akshaysaxena323/.local/lib/python2.7/site-packages/sklearn/metrics/pairwise.py:29: RuntimeWarning: numpy.dtype size changed, may indicate binary incompatibility. Expected 96, got 80\n",
      "  from .pairwise_fast import _chi2_kernel_fast, _sparse_manhattan\n",
      "/home/akshaysaxena323/.local/lib/python2.7/site-packages/sklearn/metrics/pairwise.py:29: RuntimeWarning: numpy.ufunc size changed, may indicate binary incompatibility. Expected 192, got 144\n",
      "  from .pairwise_fast import _chi2_kernel_fast, _sparse_manhattan\n",
      "/home/akshaysaxena323/.local/lib/python2.7/site-packages/sklearn/neighbors/__init__.py:6: RuntimeWarning: numpy.dtype size changed, may indicate binary incompatibility. Expected 96, got 80\n",
      "  from .ball_tree import BallTree\n",
      "/home/akshaysaxena323/.local/lib/python2.7/site-packages/sklearn/neighbors/__init__.py:6: RuntimeWarning: numpy.ufunc size changed, may indicate binary incompatibility. Expected 192, got 144\n",
      "  from .ball_tree import BallTree\n",
      "/home/akshaysaxena323/.local/lib/python2.7/site-packages/sklearn/neighbors/__init__.py:7: RuntimeWarning: numpy.dtype size changed, may indicate binary incompatibility. Expected 96, got 80\n",
      "  from .kd_tree import KDTree\n",
      "/home/akshaysaxena323/.local/lib/python2.7/site-packages/sklearn/neighbors/__init__.py:7: RuntimeWarning: numpy.ufunc size changed, may indicate binary incompatibility. Expected 192, got 144\n",
      "  from .kd_tree import KDTree\n",
      "/home/akshaysaxena323/.local/lib/python2.7/site-packages/sklearn/tree/tree.py:39: RuntimeWarning: numpy.dtype size changed, may indicate binary incompatibility. Expected 96, got 80\n",
      "  from ._criterion import Criterion\n",
      "/home/akshaysaxena323/.local/lib/python2.7/site-packages/sklearn/tree/tree.py:39: RuntimeWarning: numpy.ufunc size changed, may indicate binary incompatibility. Expected 192, got 144\n",
      "  from ._criterion import Criterion\n",
      "/home/akshaysaxena323/.local/lib/python2.7/site-packages/sklearn/tree/tree.py:40: RuntimeWarning: numpy.dtype size changed, may indicate binary incompatibility. Expected 96, got 80\n",
      "  from ._splitter import Splitter\n",
      "/home/akshaysaxena323/.local/lib/python2.7/site-packages/sklearn/tree/tree.py:40: RuntimeWarning: numpy.ufunc size changed, may indicate binary incompatibility. Expected 192, got 144\n",
      "  from ._splitter import Splitter\n",
      "/home/akshaysaxena323/.local/lib/python2.7/site-packages/sklearn/tree/tree.py:41: RuntimeWarning: numpy.dtype size changed, may indicate binary incompatibility. Expected 96, got 80\n",
      "  from ._tree import DepthFirstTreeBuilder\n",
      "/home/akshaysaxena323/.local/lib/python2.7/site-packages/sklearn/tree/tree.py:41: RuntimeWarning: numpy.ufunc size changed, may indicate binary incompatibility. Expected 192, got 144\n",
      "  from ._tree import DepthFirstTreeBuilder\n",
      "/home/akshaysaxena323/.local/lib/python2.7/site-packages/sklearn/ensemble/weight_boosting.py:29: DeprecationWarning: numpy.core.umath_tests is an internal NumPy module and should not be imported. It will be removed in a future NumPy release.\n",
      "  from numpy.core.umath_tests import inner1d\n",
      "/home/akshaysaxena323/.local/lib/python2.7/site-packages/sklearn/ensemble/gradient_boosting.py:36: RuntimeWarning: numpy.dtype size changed, may indicate binary incompatibility. Expected 96, got 80\n",
      "  from ._gradient_boosting import predict_stages\n",
      "/home/akshaysaxena323/.local/lib/python2.7/site-packages/sklearn/ensemble/gradient_boosting.py:36: RuntimeWarning: numpy.ufunc size changed, may indicate binary incompatibility. Expected 192, got 144\n",
      "  from ._gradient_boosting import predict_stages\n"
     ]
    }
   ],
   "source": [
    "from sklearn.ensemble import RandomForestClassifier"
   ]
  },
  {
   "cell_type": "code",
   "execution_count": 74,
   "metadata": {},
   "outputs": [
    {
     "data": {
      "text/html": [
       "<div>\n",
       "<style scoped>\n",
       "    .dataframe tbody tr th:only-of-type {\n",
       "        vertical-align: middle;\n",
       "    }\n",
       "\n",
       "    .dataframe tbody tr th {\n",
       "        vertical-align: top;\n",
       "    }\n",
       "\n",
       "    .dataframe thead th {\n",
       "        text-align: right;\n",
       "    }\n",
       "</style>\n",
       "<table border=\"1\" class=\"dataframe\">\n",
       "  <thead>\n",
       "    <tr style=\"text-align: right;\">\n",
       "      <th></th>\n",
       "      <th>cust_id</th>\n",
       "      <th>order_date</th>\n",
       "      <th>target</th>\n",
       "      <th>month</th>\n",
       "      <th>weekofyear</th>\n",
       "      <th>is_month_start</th>\n",
       "      <th>is_month_end</th>\n",
       "      <th>day</th>\n",
       "      <th>dayofweek</th>\n",
       "      <th>cust_id_total_send_mean</th>\n",
       "      <th>...</th>\n",
       "      <th>m8_y</th>\n",
       "      <th>m9_y</th>\n",
       "      <th>m10_y</th>\n",
       "      <th>m11_y</th>\n",
       "      <th>cust_id_month_count</th>\n",
       "      <th>cust_id_count</th>\n",
       "      <th>is_month_start0</th>\n",
       "      <th>is_month_start1</th>\n",
       "      <th>is_month_end0</th>\n",
       "      <th>is_month_end1</th>\n",
       "    </tr>\n",
       "  </thead>\n",
       "  <tbody>\n",
       "    <tr>\n",
       "      <th>0</th>\n",
       "      <td>4239597436</td>\n",
       "      <td>2015-03-20</td>\n",
       "      <td>1</td>\n",
       "      <td>3</td>\n",
       "      <td>12</td>\n",
       "      <td>False</td>\n",
       "      <td>False</td>\n",
       "      <td>20</td>\n",
       "      <td>4</td>\n",
       "      <td>10.897333</td>\n",
       "      <td>...</td>\n",
       "      <td>19.556</td>\n",
       "      <td>12.776667</td>\n",
       "      <td>12.01</td>\n",
       "      <td>12.124</td>\n",
       "      <td>5.0</td>\n",
       "      <td>60</td>\n",
       "      <td>11.029649</td>\n",
       "      <td>8.383333</td>\n",
       "      <td>10.881579</td>\n",
       "      <td>11.196667</td>\n",
       "    </tr>\n",
       "    <tr>\n",
       "      <th>1</th>\n",
       "      <td>4239597436</td>\n",
       "      <td>2015-03-21</td>\n",
       "      <td>1</td>\n",
       "      <td>3</td>\n",
       "      <td>12</td>\n",
       "      <td>False</td>\n",
       "      <td>False</td>\n",
       "      <td>21</td>\n",
       "      <td>5</td>\n",
       "      <td>10.897333</td>\n",
       "      <td>...</td>\n",
       "      <td>19.556</td>\n",
       "      <td>12.776667</td>\n",
       "      <td>12.01</td>\n",
       "      <td>12.124</td>\n",
       "      <td>5.0</td>\n",
       "      <td>60</td>\n",
       "      <td>11.029649</td>\n",
       "      <td>8.383333</td>\n",
       "      <td>10.881579</td>\n",
       "      <td>11.196667</td>\n",
       "    </tr>\n",
       "    <tr>\n",
       "      <th>2</th>\n",
       "      <td>4239597436</td>\n",
       "      <td>2015-03-22</td>\n",
       "      <td>0</td>\n",
       "      <td>3</td>\n",
       "      <td>12</td>\n",
       "      <td>False</td>\n",
       "      <td>False</td>\n",
       "      <td>22</td>\n",
       "      <td>6</td>\n",
       "      <td>10.897333</td>\n",
       "      <td>...</td>\n",
       "      <td>19.556</td>\n",
       "      <td>12.776667</td>\n",
       "      <td>12.01</td>\n",
       "      <td>12.124</td>\n",
       "      <td>5.0</td>\n",
       "      <td>60</td>\n",
       "      <td>11.029649</td>\n",
       "      <td>8.383333</td>\n",
       "      <td>10.881579</td>\n",
       "      <td>11.196667</td>\n",
       "    </tr>\n",
       "    <tr>\n",
       "      <th>3</th>\n",
       "      <td>4239597436</td>\n",
       "      <td>2015-03-23</td>\n",
       "      <td>0</td>\n",
       "      <td>3</td>\n",
       "      <td>13</td>\n",
       "      <td>False</td>\n",
       "      <td>False</td>\n",
       "      <td>23</td>\n",
       "      <td>0</td>\n",
       "      <td>10.897333</td>\n",
       "      <td>...</td>\n",
       "      <td>19.556</td>\n",
       "      <td>12.776667</td>\n",
       "      <td>12.01</td>\n",
       "      <td>12.124</td>\n",
       "      <td>5.0</td>\n",
       "      <td>60</td>\n",
       "      <td>11.029649</td>\n",
       "      <td>8.383333</td>\n",
       "      <td>10.881579</td>\n",
       "      <td>11.196667</td>\n",
       "    </tr>\n",
       "    <tr>\n",
       "      <th>4</th>\n",
       "      <td>4239597436</td>\n",
       "      <td>2015-03-24</td>\n",
       "      <td>0</td>\n",
       "      <td>3</td>\n",
       "      <td>13</td>\n",
       "      <td>False</td>\n",
       "      <td>False</td>\n",
       "      <td>24</td>\n",
       "      <td>1</td>\n",
       "      <td>10.897333</td>\n",
       "      <td>...</td>\n",
       "      <td>19.556</td>\n",
       "      <td>12.776667</td>\n",
       "      <td>12.01</td>\n",
       "      <td>12.124</td>\n",
       "      <td>5.0</td>\n",
       "      <td>60</td>\n",
       "      <td>11.029649</td>\n",
       "      <td>8.383333</td>\n",
       "      <td>10.881579</td>\n",
       "      <td>11.196667</td>\n",
       "    </tr>\n",
       "  </tbody>\n",
       "</table>\n",
       "<p>5 rows × 59 columns</p>\n",
       "</div>"
      ],
      "text/plain": [
       "      cust_id order_date  target  month  weekofyear  is_month_start  \\\n",
       "0  4239597436 2015-03-20       1      3          12           False   \n",
       "1  4239597436 2015-03-21       1      3          12           False   \n",
       "2  4239597436 2015-03-22       0      3          12           False   \n",
       "3  4239597436 2015-03-23       0      3          13           False   \n",
       "4  4239597436 2015-03-24       0      3          13           False   \n",
       "\n",
       "   is_month_end  day  dayofweek  cust_id_total_send_mean      ...        \\\n",
       "0         False   20          4                10.897333      ...         \n",
       "1         False   21          5                10.897333      ...         \n",
       "2         False   22          6                10.897333      ...         \n",
       "3         False   23          0                10.897333      ...         \n",
       "4         False   24          1                10.897333      ...         \n",
       "\n",
       "     m8_y       m9_y  m10_y   m11_y  cust_id_month_count  cust_id_count  \\\n",
       "0  19.556  12.776667  12.01  12.124                  5.0             60   \n",
       "1  19.556  12.776667  12.01  12.124                  5.0             60   \n",
       "2  19.556  12.776667  12.01  12.124                  5.0             60   \n",
       "3  19.556  12.776667  12.01  12.124                  5.0             60   \n",
       "4  19.556  12.776667  12.01  12.124                  5.0             60   \n",
       "\n",
       "   is_month_start0  is_month_start1  is_month_end0  is_month_end1  \n",
       "0        11.029649         8.383333      10.881579      11.196667  \n",
       "1        11.029649         8.383333      10.881579      11.196667  \n",
       "2        11.029649         8.383333      10.881579      11.196667  \n",
       "3        11.029649         8.383333      10.881579      11.196667  \n",
       "4        11.029649         8.383333      10.881579      11.196667  \n",
       "\n",
       "[5 rows x 59 columns]"
      ]
     },
     "execution_count": 74,
     "metadata": {},
     "output_type": "execute_result"
    }
   ],
   "source": [
    "train.head()"
   ]
  },
  {
   "cell_type": "code",
   "execution_count": 79,
   "metadata": {},
   "outputs": [],
   "source": [
    "# script for validation\n",
    "from sklearn.metrics import roc_auc_score\n",
    "def validation(train,test):\n",
    "    y = train.target.values\n",
    "    train = train.drop(['target','order_date'],axis=1)\n",
    "    test = test.drop(['order_date'],axis=1)\n",
    "    clf = RandomForestClassifier(max_depth=5,criterion='gini',n_estimators=100,n_jobs=-1)\n",
    "    clf.fit(train,y)\n",
    "    return clf.predict_proba(test)[:,1]"
   ]
  },
  {
   "cell_type": "code",
   "execution_count": 80,
   "metadata": {},
   "outputs": [
    {
     "name": "stdout",
     "output_type": "stream",
     "text": [
      "7\n",
      "0\n",
      "((4583463, 59), (87423, 58))\n",
      "0.5828653901416068\n",
      "1\n",
      "((4595952, 59), (74934, 58))\n",
      "0.5810778253176773\n",
      "2\n",
      "((4608441, 59), (62445, 58))\n",
      "0.581128019746006\n",
      "3\n",
      "((4620930, 59), (49956, 58))\n",
      "0.5821004092992454\n",
      "4\n",
      "((4633419, 59), (37467, 58))\n",
      "0.577798605207125\n",
      "5\n",
      "((4645908, 59), (24978, 58))\n",
      "0.5735976564918094\n",
      "6\n",
      "((4658397, 59), (12489, 58))\n",
      "0.5823846313647605\n",
      "('mean', 0.5801360767954614)\n"
     ]
    }
   ],
   "source": [
    "#0.5836903334386723\n",
    "k = train.loc[train.order_date > pd.to_datetime('2016-03-20',format= '%Y-%m-%d'),'order_date'].values\n",
    "t = len(np.unique(k))\n",
    "print (t)\n",
    "met =[]\n",
    "for i in range(0,t):\n",
    "    print(i)\n",
    "    o = pd.to_datetime('2016-03-20',format= '%Y-%m-%d') + pd.DateOffset(i)\n",
    "    ind1 = train.loc[train.order_date <= o].index\n",
    "    ind2 = train.loc[train.order_date > o].index\n",
    "    X_train = train.iloc[ind1]\n",
    "    X_test = train.iloc[ind2]\n",
    "    test_y = X_test.target.values\n",
    "    X_test = X_test.drop('target',axis=1)\n",
    "    print (X_train.shape,X_test.shape)\n",
    "    pred_test_y = validation(X_train.copy(),X_test.copy())\n",
    "    e = roc_auc_score(test_y, pred_test_y)\n",
    "    print (e)\n",
    "    met.append(e)\n",
    "print (\"mean\",np.mean(met))\n",
    "test.to_csv('7_day_op.csv',index = False)"
   ]
  },
  {
   "cell_type": "markdown",
   "metadata": {},
   "source": [
    "### ROC score is 0.58"
   ]
  },
  {
   "cell_type": "code",
   "execution_count": 81,
   "metadata": {},
   "outputs": [
    {
     "data": {
      "text/plain": [
       "[0.5828653901416068,\n",
       " 0.5810778253176773,\n",
       " 0.581128019746006,\n",
       " 0.5821004092992454,\n",
       " 0.577798605207125,\n",
       " 0.5735976564918094,\n",
       " 0.5823846313647605]"
      ]
     },
     "execution_count": 81,
     "metadata": {},
     "output_type": "execute_result"
    }
   ],
   "source": [
    "met"
   ]
  },
  {
   "cell_type": "code",
   "execution_count": 86,
   "metadata": {},
   "outputs": [],
   "source": [
    "clf = RandomForestClassifier(max_depth=4,criterion='gini',n_estimators=350,n_jobs=-1)\n",
    "y = train.target.values\n",
    "train1 = train.drop('target', axis = 1)\n",
    "train1 = train1.drop('order_date',axis=1)\n",
    "#test = test.drop('order_date',axis=1)\n",
    "clf.fit(train1,y)\n",
    "test1 = test.drop(['order_date'],axis=1)\n",
    "predictions = clf.predict(test1)"
   ]
  },
  {
   "cell_type": "code",
   "execution_count": 101,
   "metadata": {},
   "outputs": [],
   "source": [
    "probs = clf.predict_proba(test1)[:,1]"
   ]
  },
  {
   "cell_type": "code",
   "execution_count": 106,
   "metadata": {},
   "outputs": [
    {
     "data": {
      "text/plain": [
       "array([0.14194216, 0.15401904, 0.15401904, ..., 0.00074873, 0.00074873,\n",
       "       0.00074873])"
      ]
     },
     "execution_count": 106,
     "metadata": {},
     "output_type": "execute_result"
    }
   ],
   "source": [
    "probs"
   ]
  },
  {
   "cell_type": "markdown",
   "metadata": {},
   "source": [
    "### Apply Logistic Regression"
   ]
  },
  {
   "cell_type": "code",
   "execution_count": 133,
   "metadata": {},
   "outputs": [
    {
     "data": {
      "text/plain": [
       "LogisticRegression(C=1.0, class_weight=None, dual=False, fit_intercept=True,\n",
       "          intercept_scaling=1, max_iter=100, multi_class='ovr', n_jobs=1,\n",
       "          penalty='l2', random_state=None, solver='liblinear', tol=0.0001,\n",
       "          verbose=0, warm_start=False)"
      ]
     },
     "execution_count": 133,
     "metadata": {},
     "output_type": "execute_result"
    }
   ],
   "source": [
    "from sklearn.linear_model import LogisticRegression\n",
    "from sklearn import metrics\n",
    "logreg = LogisticRegression()\n",
    "y = train.target.values\n",
    "logreg.fit(train1, y)"
   ]
  },
  {
   "cell_type": "code",
   "execution_count": 134,
   "metadata": {},
   "outputs": [],
   "source": [
    "from sklearn.linear_model import LogisticRegression"
   ]
  },
  {
   "cell_type": "code",
   "execution_count": 135,
   "metadata": {},
   "outputs": [
    {
     "name": "stdout",
     "output_type": "stream",
     "text": [
      "10-fold cross validation average accuracy: 0.939\n"
     ]
    }
   ],
   "source": [
    "from sklearn import model_selection\n",
    "from sklearn.model_selection import cross_val_score\n",
    "kfold = model_selection.KFold(n_splits=5, random_state=7)\n",
    "modelCV = LogisticRegression()\n",
    "scoring = 'accuracy'\n",
    "results = model_selection.cross_val_score(modelCV, train1, y, cv=kfold, scoring=scoring)\n",
    "print(\"10-fold cross validation average accuracy: %.3f\" % (results.mean()))"
   ]
  },
  {
   "cell_type": "markdown",
   "metadata": {},
   "source": [
    "### Logistic Regression achieved 93% accuracy"
   ]
  },
  {
   "cell_type": "code",
   "execution_count": null,
   "metadata": {},
   "outputs": [],
   "source": []
  }
 ],
 "metadata": {
  "kernelspec": {
   "display_name": "Python 2",
   "language": "python",
   "name": "python2"
  },
  "language_info": {
   "codemirror_mode": {
    "name": "ipython",
    "version": 2
   },
   "file_extension": ".py",
   "mimetype": "text/x-python",
   "name": "python",
   "nbconvert_exporter": "python",
   "pygments_lexer": "ipython2",
   "version": "2.7.12"
  }
 },
 "nbformat": 4,
 "nbformat_minor": 2
}
