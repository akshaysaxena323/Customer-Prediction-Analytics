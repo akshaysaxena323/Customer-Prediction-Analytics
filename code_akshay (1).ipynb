{
 "cells": [
  {
   "cell_type": "code",
   "execution_count": 1,
   "metadata": {},
   "outputs": [],
   "source": [
    "import pandas as pd\n",
    "import numpy as np"
   ]
  },
  {
   "cell_type": "code",
   "execution_count": 2,
   "metadata": {},
   "outputs": [],
   "source": [
    "data = pd.read_csv('data_science_challenge_samp_18.csv',parse_dates=[1],keep_date_col = True)"
   ]
  },
  {
   "cell_type": "code",
   "execution_count": 3,
   "metadata": {},
   "outputs": [
    {
     "data": {
      "text/plain": [
       "Index(['cust_id', 'order_date', 'lane_number', 'total_spend',\n",
       "       'units_purchased'],\n",
       "      dtype='object')"
      ]
     },
     "execution_count": 3,
     "metadata": {},
     "output_type": "execute_result"
    }
   ],
   "source": [
    "data.columns"
   ]
  },
  {
   "cell_type": "code",
   "execution_count": 4,
   "metadata": {},
   "outputs": [
    {
     "name": "stdout",
     "output_type": "stream",
     "text": [
      "(323437, 5)\n",
      "(323021, 5)\n"
     ]
    }
   ],
   "source": [
    "print(data.shape)\n",
    "data = data.drop_duplicates()\n",
    "print(data.shape)"
   ]
  },
  {
   "cell_type": "code",
   "execution_count": 5,
   "metadata": {},
   "outputs": [
    {
     "data": {
      "text/plain": [
       "cust_id                     int64\n",
       "order_date         datetime64[ns]\n",
       "lane_number                 int64\n",
       "total_spend                object\n",
       "units_purchased             int64\n",
       "dtype: object"
      ]
     },
     "execution_count": 5,
     "metadata": {},
     "output_type": "execute_result"
    }
   ],
   "source": [
    "data.dtypes"
   ]
  },
  {
   "cell_type": "code",
   "execution_count": 6,
   "metadata": {},
   "outputs": [],
   "source": [
    "cust_count = data.cust_id.value_counts().reset_index()\n",
    "cust_count.columns = ['cust_id','cust_count']"
   ]
  },
  {
   "cell_type": "code",
   "execution_count": 7,
   "metadata": {},
   "outputs": [
    {
     "data": {
      "text/html": [
       "<div>\n",
       "<style scoped>\n",
       "    .dataframe tbody tr th:only-of-type {\n",
       "        vertical-align: middle;\n",
       "    }\n",
       "\n",
       "    .dataframe tbody tr th {\n",
       "        vertical-align: top;\n",
       "    }\n",
       "\n",
       "    .dataframe thead th {\n",
       "        text-align: right;\n",
       "    }\n",
       "</style>\n",
       "<table border=\"1\" class=\"dataframe\">\n",
       "  <thead>\n",
       "    <tr style=\"text-align: right;\">\n",
       "      <th></th>\n",
       "      <th>cust_id</th>\n",
       "      <th>cust_count</th>\n",
       "    </tr>\n",
       "  </thead>\n",
       "  <tbody>\n",
       "    <tr>\n",
       "      <th>0</th>\n",
       "      <td>5183161534</td>\n",
       "      <td>543</td>\n",
       "    </tr>\n",
       "    <tr>\n",
       "      <th>1</th>\n",
       "      <td>4302370736</td>\n",
       "      <td>535</td>\n",
       "    </tr>\n",
       "  </tbody>\n",
       "</table>\n",
       "</div>"
      ],
      "text/plain": [
       "      cust_id  cust_count\n",
       "0  5183161534         543\n",
       "1  4302370736         535"
      ]
     },
     "execution_count": 7,
     "metadata": {},
     "output_type": "execute_result"
    }
   ],
   "source": [
    "cust_count.head(2)"
   ]
  },
  {
   "cell_type": "code",
   "execution_count": 8,
   "metadata": {},
   "outputs": [
    {
     "data": {
      "text/plain": [
       "(Timestamp('2015-03-20 00:00:00'), Timestamp('2016-03-27 00:00:00'))"
      ]
     },
     "execution_count": 8,
     "metadata": {},
     "output_type": "execute_result"
    }
   ],
   "source": [
    "data.order_date.min(),data.order_date.max()"
   ]
  },
  {
   "cell_type": "code",
   "execution_count": 9,
   "metadata": {},
   "outputs": [
    {
     "data": {
      "text/html": [
       "<div>\n",
       "<style scoped>\n",
       "    .dataframe tbody tr th:only-of-type {\n",
       "        vertical-align: middle;\n",
       "    }\n",
       "\n",
       "    .dataframe tbody tr th {\n",
       "        vertical-align: top;\n",
       "    }\n",
       "\n",
       "    .dataframe thead th {\n",
       "        text-align: right;\n",
       "    }\n",
       "</style>\n",
       "<table border=\"1\" class=\"dataframe\">\n",
       "  <thead>\n",
       "    <tr style=\"text-align: right;\">\n",
       "      <th></th>\n",
       "      <th>cust_id</th>\n",
       "      <th>order_date</th>\n",
       "      <th>lane_number</th>\n",
       "      <th>total_spend</th>\n",
       "      <th>units_purchased</th>\n",
       "    </tr>\n",
       "  </thead>\n",
       "  <tbody>\n",
       "    <tr>\n",
       "      <th>0</th>\n",
       "      <td>4239597436</td>\n",
       "      <td>2015-03-20</td>\n",
       "      <td>3</td>\n",
       "      <td>19.84</td>\n",
       "      <td>5</td>\n",
       "    </tr>\n",
       "    <tr>\n",
       "      <th>1</th>\n",
       "      <td>4913827536</td>\n",
       "      <td>2015-03-20</td>\n",
       "      <td>3</td>\n",
       "      <td>11.1</td>\n",
       "      <td>5</td>\n",
       "    </tr>\n",
       "    <tr>\n",
       "      <th>2</th>\n",
       "      <td>4913827536</td>\n",
       "      <td>2015-03-20</td>\n",
       "      <td>1</td>\n",
       "      <td>10</td>\n",
       "      <td>1</td>\n",
       "    </tr>\n",
       "    <tr>\n",
       "      <th>3</th>\n",
       "      <td>4271866537</td>\n",
       "      <td>2015-03-20</td>\n",
       "      <td>5</td>\n",
       "      <td>13.68</td>\n",
       "      <td>2</td>\n",
       "    </tr>\n",
       "    <tr>\n",
       "      <th>4</th>\n",
       "      <td>5316845735</td>\n",
       "      <td>2015-03-20</td>\n",
       "      <td>4</td>\n",
       "      <td>5.29</td>\n",
       "      <td>1</td>\n",
       "    </tr>\n",
       "  </tbody>\n",
       "</table>\n",
       "</div>"
      ],
      "text/plain": [
       "      cust_id order_date  lane_number total_spend  units_purchased\n",
       "0  4239597436 2015-03-20            3       19.84                5\n",
       "1  4913827536 2015-03-20            3        11.1                5\n",
       "2  4913827536 2015-03-20            1          10                1\n",
       "3  4271866537 2015-03-20            5       13.68                2\n",
       "4  5316845735 2015-03-20            4        5.29                1"
      ]
     },
     "execution_count": 9,
     "metadata": {},
     "output_type": "execute_result"
    }
   ],
   "source": [
    "data.head(5)"
   ]
  },
  {
   "cell_type": "code",
   "execution_count": 10,
   "metadata": {},
   "outputs": [],
   "source": [
    "from datetime import date, timedelta\n",
    "d2 = date(2016, 3, 27)  # start date\n",
    "d1 = date(2015, 3, 20)  # end date\n",
    "delta = d2 - d1         # timedelta\n",
    "all_dates = []\n",
    "for i in range(delta.days + 8):\n",
    "    all_dates.append(d1 + timedelta(i))"
   ]
  },
  {
   "cell_type": "code",
   "execution_count": 11,
   "metadata": {},
   "outputs": [],
   "source": [
    "all_cust_id = data.cust_id.unique()"
   ]
  },
  {
   "cell_type": "code",
   "execution_count": 12,
   "metadata": {},
   "outputs": [],
   "source": [
    "data_cus_id = []\n",
    "data_dates = []\n",
    "for c_id in all_cust_id:\n",
    "    for d in all_dates:\n",
    "        data_cus_id.append(c_id)\n",
    "        data_dates.append(d)"
   ]
  },
  {
   "cell_type": "code",
   "execution_count": 13,
   "metadata": {},
   "outputs": [
    {
     "data": {
      "text/plain": [
       "(4758309, 4758309)"
      ]
     },
     "execution_count": 13,
     "metadata": {},
     "output_type": "execute_result"
    }
   ],
   "source": [
    "len(data_cus_id), len(data_dates)"
   ]
  },
  {
   "cell_type": "code",
   "execution_count": 14,
   "metadata": {},
   "outputs": [],
   "source": [
    "full_data = pd.DataFrame({'cust_id':data_cus_id,'order_date':data_dates})"
   ]
  },
  {
   "cell_type": "code",
   "execution_count": 15,
   "metadata": {},
   "outputs": [
    {
     "data": {
      "text/plain": [
       "array([381])"
      ]
     },
     "execution_count": 15,
     "metadata": {},
     "output_type": "execute_result"
    }
   ],
   "source": [
    "full_data.cust_id.value_counts().unique()"
   ]
  },
  {
   "cell_type": "code",
   "execution_count": 16,
   "metadata": {},
   "outputs": [
    {
     "data": {
      "text/plain": [
       "cust_id        int64\n",
       "order_date    object\n",
       "dtype: object"
      ]
     },
     "execution_count": 16,
     "metadata": {},
     "output_type": "execute_result"
    }
   ],
   "source": [
    "full_data.dtypes"
   ]
  },
  {
   "cell_type": "code",
   "execution_count": 17,
   "metadata": {},
   "outputs": [],
   "source": [
    "full_data['order_date'] = pd.to_datetime(full_data.order_date,format= '%Y-%m-%d')"
   ]
  },
  {
   "cell_type": "code",
   "execution_count": 18,
   "metadata": {},
   "outputs": [
    {
     "data": {
      "text/plain": [
       "(Timestamp('2015-03-20 00:00:00'), Timestamp('2016-04-03 00:00:00'))"
      ]
     },
     "execution_count": 18,
     "metadata": {},
     "output_type": "execute_result"
    }
   ],
   "source": [
    "full_data.order_date.min(),full_data.order_date.max()"
   ]
  },
  {
   "cell_type": "code",
   "execution_count": 19,
   "metadata": {},
   "outputs": [],
   "source": [
    "train = full_data.loc[full_data.order_date <= pd.to_datetime('2016-03-27',format ='%Y-%m-%d' )]\n",
    "test = full_data.loc[full_data.order_date > pd.to_datetime('2016-03-27',format ='%Y-%m-%d' )]"
   ]
  },
  {
   "cell_type": "code",
   "execution_count": 20,
   "metadata": {},
   "outputs": [
    {
     "data": {
      "text/plain": [
       "(array([374]), array([7]))"
      ]
     },
     "execution_count": 20,
     "metadata": {},
     "output_type": "execute_result"
    }
   ],
   "source": [
    "train.cust_id.value_counts().unique(),test.cust_id.value_counts().unique()"
   ]
  },
  {
   "cell_type": "code",
   "execution_count": 21,
   "metadata": {},
   "outputs": [
    {
     "data": {
      "text/plain": [
       "((87423, 2), (4670886, 2), (4758309, 2))"
      ]
     },
     "execution_count": 21,
     "metadata": {},
     "output_type": "execute_result"
    }
   ],
   "source": [
    "test.shape,train.shape,full_data.shape"
   ]
  },
  {
   "cell_type": "code",
   "execution_count": 22,
   "metadata": {},
   "outputs": [
    {
     "data": {
      "text/plain": [
       "37"
      ]
     },
     "execution_count": 22,
     "metadata": {},
     "output_type": "execute_result"
    }
   ],
   "source": [
    "import gc\n",
    "del full_data\n",
    "gc.collect()"
   ]
  },
  {
   "cell_type": "code",
   "execution_count": 23,
   "metadata": {},
   "outputs": [
    {
     "name": "stdout",
     "output_type": "stream",
     "text": [
      "(323021, 5)\n",
      "(283838, 5)\n"
     ]
    }
   ],
   "source": [
    "print(data.shape)\n",
    "data = data.groupby(['cust_id','order_date']).head(1)\n",
    "print (data.shape)"
   ]
  },
  {
   "cell_type": "code",
   "execution_count": 24,
   "metadata": {},
   "outputs": [],
   "source": [
    "train = train.merge(data, on=['cust_id','order_date'],how='left')"
   ]
  },
  {
   "cell_type": "code",
   "execution_count": 25,
   "metadata": {},
   "outputs": [],
   "source": [
    "train['target']=0\n",
    "train.loc[pd.notnull(train.units_purchased ),'target']=1\n",
    "train = train.drop(['units_purchased','lane_number','total_spend'],axis=1)"
   ]
  },
  {
   "cell_type": "code",
   "execution_count": 26,
   "metadata": {},
   "outputs": [
    {
     "data": {
      "text/plain": [
       "True"
      ]
     },
     "execution_count": 26,
     "metadata": {},
     "output_type": "execute_result"
    }
   ],
   "source": [
    "# number of one should be same as the number of data observations and it can be verified as below\n",
    "train.target.sum() == data.shape[0]"
   ]
  },
  {
   "cell_type": "code",
   "execution_count": 27,
   "metadata": {},
   "outputs": [
    {
     "data": {
      "text/plain": [
       "array([374])"
      ]
     },
     "execution_count": 27,
     "metadata": {},
     "output_type": "execute_result"
    }
   ],
   "source": [
    "train.cust_id.value_counts().unique()"
   ]
  },
  {
   "cell_type": "code",
   "execution_count": 28,
   "metadata": {},
   "outputs": [],
   "source": [
    "# create some features based on date\n",
    "train['month'] = train.order_date.dt.month\n",
    "train['weekofyear'] = train.order_date.dt.weekofyear\n",
    "train['is_month_start'] = train.order_date.dt.is_month_start\n",
    "train['is_month_end'] = train.order_date.dt.is_month_end\n",
    "train['day'] = train.order_date.dt.day\n",
    "train['dayofweek'] = train.order_date.dt.dayofweek\n",
    "\n",
    "test['month'] = test.order_date.dt.month\n",
    "test['weekofyear'] = test.order_date.dt.weekofyear\n",
    "test['is_month_start'] = test.order_date.dt.is_month_start\n",
    "test['is_month_end'] = test.order_date.dt.is_month_end\n",
    "test['day'] = test.order_date.dt.day\n",
    "test['dayofweek'] = test.order_date.dt.dayofweek"
   ]
  },
  {
   "cell_type": "code",
   "execution_count": 29,
   "metadata": {},
   "outputs": [
    {
     "data": {
      "text/plain": [
       "Index(['cust_id', 'order_date', 'target', 'month', 'weekofyear',\n",
       "       'is_month_start', 'is_month_end', 'day', 'dayofweek'],\n",
       "      dtype='object')"
      ]
     },
     "execution_count": 29,
     "metadata": {},
     "output_type": "execute_result"
    }
   ],
   "source": [
    "# one thing i didn't consider(customers visited the store more than once in a day)\n",
    "# i simply took the first visit of the day(you could use the aggregrated values)\n",
    "train.columns"
   ]
  },
  {
   "cell_type": "code",
   "execution_count": 30,
   "metadata": {},
   "outputs": [],
   "source": [
    "data['month'] = data.order_date.dt.month\n",
    "data['weekofyear'] = data.order_date.dt.weekofyear\n",
    "data['is_month_start'] = data.order_date.dt.is_month_start\n",
    "data['is_month_end'] = data.order_date.dt.is_month_end\n",
    "data['day'] = data.order_date.dt.day\n",
    "data['dayofweek'] = data.order_date.dt.day\n"
   ]
  },
  {
   "cell_type": "code",
   "execution_count": 31,
   "metadata": {},
   "outputs": [],
   "source": [
    "data['total_spend'] = data.total_spend.str.replace(',', '')\n",
    "data['total_spend']=data.total_spend.astype(float)"
   ]
  },
  {
   "cell_type": "code",
   "execution_count": 32,
   "metadata": {},
   "outputs": [],
   "source": [
    "# in next few llines stats based features are created"
   ]
  },
  {
   "cell_type": "code",
   "execution_count": 33,
   "metadata": {},
   "outputs": [],
   "source": [
    "#k1 = data[['cust_id','total_spend']].groupby('cust_id').agg('mean').reset_index()\n",
    "#k1.columns = ['cust_id','cust_id_total_send_mean']\n",
    "#train = train.merge(k1,on='cust_id',how='left')\n",
    "#test = test.merge(k1,on='cust_id',how='left')\n",
    "\n",
    "#k2 = data[['cust_id','total_spend']].groupby('cust_id').agg('median').reset_index()\n",
    "#k2.columns = ['cust_id','cust_id_total_send_median']\n",
    "#train = train.merge(k2,on='cust_id',how='left')\n",
    "#test = test.merge(k2,on='cust_id',how='left')\n",
    "\n",
    "#k3 = data[['cust_id','total_spend']].groupby('cust_id').agg('std').reset_index()\n",
    "#k3.columns = ['cust_id','cust_id_total_send_std']\n",
    "#train = train.merge(k3,on='cust_id',how='left')\n",
    "#test = test.merge(k3,on='cust_id',how='left')"
   ]
  },
  {
   "cell_type": "code",
   "execution_count": 34,
   "metadata": {},
   "outputs": [],
   "source": [
    "#k1 = data[['cust_id','units_purchased']].groupby('cust_id').agg('mean').reset_index()\n",
    "#k1.columns = ['cust_id','cust_id_units_purchased_mean']\n",
    "#train = train.merge(k1,on='cust_id',how='left')\n",
    "#test = test.merge(k1,on='cust_id',how='left')\n",
    "\n",
    "#k2 = data[['cust_id','units_purchased']].groupby('cust_id').agg('median').reset_index()\n",
    "#k2.columns = ['cust_id','cust_id_units_purchased_median']\n",
    "#train = train.merge(k2,on='cust_id',how='left')\n",
    "#test = test.merge(k2,on='cust_id',how='left')\n",
    "\n",
    "#k3 = data[['cust_id','units_purchased']].groupby('cust_id').agg('std').reset_index()\n",
    "#k3.columns = ['cust_id','cust_id_units_purchased_std']\n",
    "#train = train.merge(k3,on='cust_id',how='left')\n",
    "#test = test.merge(k3,on='cust_id',how='left')"
   ]
  },
  {
   "cell_type": "code",
   "execution_count": 35,
   "metadata": {},
   "outputs": [],
   "source": [
    "k1 = data[['cust_id','month','units_purchased']].groupby(['cust_id','month']).agg('mean').reset_index()\n",
    "k1.columns = ['cust_id','month','cust_id_month_units_purchased_mean']\n",
    "train = train.merge(k1,on=['cust_id','month'],how='left')\n",
    "test = test.merge(k1,on=['cust_id','month'],how='left')\n",
    "\n",
    "k2 = data[['cust_id','month','units_purchased']].groupby(['cust_id','month']).agg('median').reset_index()\n",
    "k2.columns = ['cust_id','month','cust_id_month_units_purchased_median']\n",
    "train = train.merge(k2,on=['cust_id','month'],how='left')\n",
    "test = test.merge(k2,on=['cust_id','month'],how='left')\n",
    "\n",
    "k3 = data[['cust_id','month','units_purchased']].groupby(['cust_id','month']).agg('std').reset_index()\n",
    "k3.columns = ['cust_id','month','cust_id_month_units_purchased_std']\n",
    "train = train.merge(k3,on=['cust_id','month'],how='left')\n",
    "test = test.merge(k3,on=['cust_id','month'],how='left')"
   ]
  },
  {
   "cell_type": "code",
   "execution_count": 36,
   "metadata": {},
   "outputs": [],
   "source": [
    "k1 = data[['cust_id','month','total_spend']].groupby(['cust_id','month']).agg('mean').reset_index()\n",
    "k1.columns = ['cust_id','month','cust_id_month_total_spend_mean']\n",
    "train = train.merge(k1,on=['cust_id','month'],how='left')\n",
    "test = test.merge(k1,on=['cust_id','month'],how='left')\n",
    "\n",
    "k2 = data[['cust_id','month','total_spend']].groupby(['cust_id','month']).agg('median').reset_index()\n",
    "k2.columns = ['cust_id','month','cust_id_month_total_spend_median']\n",
    "train = train.merge(k2,on=['cust_id','month'],how='left')\n",
    "test = test.merge(k2,on=['cust_id','month'],how='left')\n",
    "\n",
    "k3 = data[['cust_id','dayofweek','total_spend']].groupby(['cust_id','dayofweek']).agg('std').reset_index()\n",
    "k3.columns = ['cust_id','dayofweek','cust_id_dayofweek_total_spend_std']\n",
    "train = train.merge(k3,on=['cust_id','dayofweek'],how='left')\n",
    "test = test.merge(k3,on=['cust_id','dayofweek'],how='left')"
   ]
  },
  {
   "cell_type": "code",
   "execution_count": 37,
   "metadata": {},
   "outputs": [],
   "source": [
    "k1 = data[['cust_id','lane_number','total_spend']].groupby(['cust_id','lane_number']).agg('mean').reset_index()\n",
    "k1 = k1.pivot(index='cust_id', columns='lane_number', values='total_spend').reset_index().replace(np.nan,0)\n",
    "train = train.merge(k1,on=['cust_id'],how='left')\n",
    "test = test.merge(k1,on=['cust_id'],how='left')"
   ]
  },
  {
   "cell_type": "code",
   "execution_count": null,
   "metadata": {},
   "outputs": [],
   "source": [
    "k1 = data[['cust_id','month','total_spend']].groupby(['cust_id','month']).agg('mean').reset_index()\n",
    "k1 = k1.pivot(index='cust_id', columns='month', values='total_spend').reset_index().replace(np.nan,0)\n",
    "k1 = k1[['cust_id', 1, 2, 3, 4, 5, 6, 7, 8, 9, 10, 11, 12]]\n",
    "k1.columns = ['cust_id', 'm0', 'm1', 'm2', 'm3', 'm4', 'm5', 'm6','m7', 'm8', 'm9', 'm10', 'm11']\n",
    "train = train.merge(k1,on=['cust_id'],how='left')\n",
    "test = test.merge(k1,on=['cust_id'],how='left')"
   ]
  },
  {
   "cell_type": "code",
   "execution_count": null,
   "metadata": {},
   "outputs": [],
   "source": [
    "k1 = data[['cust_id','month','total_spend']].groupby(['cust_id','month']).agg('mean').reset_index()\n",
    "k1 = k1.pivot(index='cust_id', columns='month', values='total_spend').reset_index().replace(np.nan,0)\n",
    "k1 = k1[['cust_id', 1, 2, 3, 4, 5, 6, 7, 8, 9, 10, 11, 12]]\n",
    "k1.columns = ['cust_id', 'm0', 'm1', 'm2', 'm3', 'm4', 'm5', 'm6','m7', 'm8', 'm9', 'm10', 'm11']\n",
    "train = train.merge(k1,on=['cust_id'],how='left')\n",
    "test = test.merge(k1,on=['cust_id'],how='left')"
   ]
  },
  {
   "cell_type": "code",
   "execution_count": null,
   "metadata": {},
   "outputs": [],
   "source": [
    "k1 = data[['cust_id','month','total_spend']].groupby(['cust_id','month']).agg('count').reset_index()\n",
    "k1.columns = ['cust_id','month','cust_id_month_count']\n",
    "train = train.merge(k1,on=['cust_id','month'],how='left')\n",
    "test = test.merge(k1,on=['cust_id','month'],how='left')\n",
    "\n",
    "\n",
    "k1 = data[['cust_id','total_spend']].groupby(['cust_id']).agg('count').reset_index()\n",
    "k1.columns = ['cust_id','cust_id_count']\n",
    "train = train.merge(k1,on=['cust_id'],how='left')\n",
    "test = test.merge(k1,on=['cust_id'],how='left')\n"
   ]
  },
  {
   "cell_type": "code",
   "execution_count": null,
   "metadata": {},
   "outputs": [],
   "source": [
    "k1 = data[['cust_id','is_month_start','total_spend']].groupby(['cust_id','is_month_start']).agg('mean').reset_index()\n",
    "k1 = k1.pivot(index='cust_id', columns='is_month_start', values='total_spend').reset_index().replace(np.nan,0)\n",
    "k1.columns = ['cust_id', 'is_month_start0', 'is_month_start1']\n",
    "train = train.merge(k1,on=['cust_id'],how='left')\n",
    "test = test.merge(k1,on=['cust_id'],how='left')"
   ]
  },
  {
   "cell_type": "code",
   "execution_count": null,
   "metadata": {},
   "outputs": [],
   "source": [
    "k1 = data[['cust_id','is_month_end','total_spend']].groupby(['cust_id','is_month_end']).agg('mean').reset_index()\n",
    "k1 = k1.pivot(index='cust_id', columns='is_month_end', values='total_spend').reset_index().replace(np.nan,0)\n",
    "k1.columns = ['cust_id', 'is_month_end0', 'is_month_end1']\n",
    "train = train.replace(np.nan,-1)\n",
    "test = test.replace(np.nan,-1)\n",
    "train = train.merge(k1,on=['cust_id'],how='left')\n",
    "test = test.merge(k1,on=['cust_id'],how='left')"
   ]
  },
  {
   "cell_type": "code",
   "execution_count": null,
   "metadata": {},
   "outputs": [],
   "source": [
    "# columns common \n",
    "[i for i in train.columns if i not in test.columns],[i for i in test.columns if i not in train.columns]"
   ]
  },
  {
   "cell_type": "code",
   "execution_count": null,
   "metadata": {},
   "outputs": [],
   "source": [
    "from sklearn.ensemble import RandomForestClassifier"
   ]
  },
  {
   "cell_type": "code",
   "execution_count": null,
   "metadata": {},
   "outputs": [],
   "source": [
    "# script for validation\n",
    "from sklearn.metrics import roc_auc_score\n",
    "def validation(train,test):\n",
    "    y = train.target.values\n",
    "    train = train.drop(['target','order_date'],axis=1)\n",
    "    test = test.drop(['order_date'],axis=1)\n",
    "    clf = RandomForestClassifier(max_depth=10,criterion='gini',n_estimators=100,n_jobs=-1)\n",
    "    clf.fit(train,y)\n",
    "    return clf.predict_proba(test)[:,1]\n",
    "    "
   ]
  },
  {
   "cell_type": "code",
   "execution_count": null,
   "metadata": {},
   "outputs": [],
   "source": [
    "#0.5836903334386723\n",
    "k = train.loc[train.order_date > pd.to_datetime('2016-03-20',format= '%Y-%m-%d'),'order_date'].values\n",
    "t = len(np.unique(k))\n",
    "print t\n",
    "met =[]\n",
    "for i in range(0,t):\n",
    "    print i\n",
    "    o = pd.to_datetime('2016-03-20',format= '%Y-%m-%d') + pd.DateOffset(i)\n",
    "    ind1 = train.loc[train.order_date <= o].index\n",
    "    ind2 = train.loc[train.order_date > o].index\n",
    "    X_train = train.iloc[ind1]\n",
    "    X_test = train.iloc[ind2]\n",
    "    test_y = X_test.target.values\n",
    "    X_test = X_test.drop('target',axis=1)\n",
    "    print X_train.shape,X_test.shape\n",
    "    pred_test_y = validation(X_train.copy(),X_test.copy())\n",
    "    e = roc_auc_score(test_y, pred_test_y)\n",
    "    print (e)\n",
    "    met.append(e)\n",
    "print (\"mean\",np.mean(met))\n",
    "test.to_csv('7_day_op.csv',index = False)"
   ]
  },
  {
   "cell_type": "code",
   "execution_count": null,
   "metadata": {},
   "outputs": [],
   "source": [
    "met"
   ]
  },
  {
   "cell_type": "code",
   "execution_count": null,
   "metadata": {},
   "outputs": [],
   "source": [
    "clf = RandomForestClassifier(max_depth=8,criterion='gini',n_estimators=350,n_jobs=-1)\n",
    "clf.fit(train,y)\n",
    "clf.predict(test)\n"
   ]
  }
 ],
 "metadata": {
  "kernelspec": {
   "display_name": "Python 3",
   "language": "python",
   "name": "python3"
  },
  "language_info": {
   "codemirror_mode": {
    "name": "ipython",
    "version": 3
   },
   "file_extension": ".py",
   "mimetype": "text/x-python",
   "name": "python",
   "nbconvert_exporter": "python",
   "pygments_lexer": "ipython3",
   "version": "3.6.4"
  }
 },
 "nbformat": 4,
 "nbformat_minor": 2
}
